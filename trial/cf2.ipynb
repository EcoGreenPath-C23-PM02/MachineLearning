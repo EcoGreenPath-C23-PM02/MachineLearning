{
  "nbformat": 4,
  "nbformat_minor": 0,
  "metadata": {
    "colab": {
      "provenance": []
    },
    "kernelspec": {
      "name": "python3",
      "display_name": "Python 3"
    },
    "language_info": {
      "name": "python"
    }
  },
  "cells": [
    {
      "cell_type": "markdown",
      "source": [
        "### IMPORT PACKAGE"
      ],
      "metadata": {
        "id": "2RcXLDhV_kgJ"
      }
    },
    {
      "cell_type": "code",
      "source": [
        "!pip install scikit-surprise"
      ],
      "metadata": {
        "colab": {
          "base_uri": "https://localhost:8080/"
        },
        "id": "-yLtBAmt3tsy",
        "outputId": "eb511bd4-ee53-4889-b522-ab05e423808a"
      },
      "execution_count": null,
      "outputs": [
        {
          "output_type": "stream",
          "name": "stdout",
          "text": [
            "Looking in indexes: https://pypi.org/simple, https://us-python.pkg.dev/colab-wheels/public/simple/\n",
            "Collecting scikit-surprise\n",
            "  Downloading scikit-surprise-1.1.3.tar.gz (771 kB)\n",
            "\u001b[2K     \u001b[90m━━━━━━━━━━━━━━━━━━━━━━━━━━━━━━━━━━━━━━\u001b[0m \u001b[32m772.0/772.0 kB\u001b[0m \u001b[31m18.7 MB/s\u001b[0m eta \u001b[36m0:00:00\u001b[0m\n",
            "\u001b[?25h  Preparing metadata (setup.py) ... \u001b[?25l\u001b[?25hdone\n",
            "Requirement already satisfied: joblib>=1.0.0 in /usr/local/lib/python3.10/dist-packages (from scikit-surprise) (1.2.0)\n",
            "Requirement already satisfied: numpy>=1.17.3 in /usr/local/lib/python3.10/dist-packages (from scikit-surprise) (1.22.4)\n",
            "Requirement already satisfied: scipy>=1.3.2 in /usr/local/lib/python3.10/dist-packages (from scikit-surprise) (1.10.1)\n",
            "Building wheels for collected packages: scikit-surprise\n",
            "  Building wheel for scikit-surprise (setup.py) ... \u001b[?25l\u001b[?25hdone\n",
            "  Created wheel for scikit-surprise: filename=scikit_surprise-1.1.3-cp310-cp310-linux_x86_64.whl size=3095450 sha256=6cbbdff3676beba78ad8b5df983382ac90526544feca55b835f97a6ed3cd7cf2\n",
            "  Stored in directory: /root/.cache/pip/wheels/a5/ca/a8/4e28def53797fdc4363ca4af740db15a9c2f1595ebc51fb445\n",
            "Successfully built scikit-surprise\n",
            "Installing collected packages: scikit-surprise\n",
            "Successfully installed scikit-surprise-1.1.3\n"
          ]
        }
      ]
    },
    {
      "cell_type": "code",
      "execution_count": null,
      "metadata": {
        "id": "kKpiTx3Ep6Dg"
      },
      "outputs": [],
      "source": [
        "# Data processing\n",
        "import pandas as pd\n",
        "import numpy as np\n",
        "\n",
        "# Visualization\n",
        "import seaborn as sns\n",
        "import matplotlib.pyplot as plt\n",
        "\n",
        "# Similarity\n",
        "from surprise import Dataset, Reader, accuracy, SVD\n",
        "from sklearn.metrics import mean_squared_error, mean_absolute_error\n",
        "from surprise.model_selection import cross_validate\n",
        "from surprise.model_selection import train_test_split"
      ]
    },
    {
      "cell_type": "markdown",
      "source": [
        "### DATA PREP"
      ],
      "metadata": {
        "id": "4p9pwLUQ_ii3"
      }
    },
    {
      "cell_type": "code",
      "source": [
        "# Read in data\n",
        "ratings=pd.read_csv('/content/rate_colla.csv', sep=';')\n",
        "\n",
        "# Take a look at the data\n",
        "ratings.head()"
      ],
      "metadata": {
        "colab": {
          "base_uri": "https://localhost:8080/",
          "height": 206
        },
        "id": "8CueEG7up9jD",
        "outputId": "cc61a27f-ed2a-4e79-ee23-8578f38f401d"
      },
      "execution_count": null,
      "outputs": [
        {
          "output_type": "execute_result",
          "data": {
            "text/plain": [
              "   rating_id  user_id  pack_id  rating\n",
              "0          1        1        1       4\n",
              "1          2        1        2       3\n",
              "2          3        1        3       5\n",
              "3          4        1        4       2\n",
              "4          5        1        5       4"
            ],
            "text/html": [
              "\n",
              "  <div id=\"df-3fbe9d4d-51da-4312-b9ba-cf41a7ad121f\">\n",
              "    <div class=\"colab-df-container\">\n",
              "      <div>\n",
              "<style scoped>\n",
              "    .dataframe tbody tr th:only-of-type {\n",
              "        vertical-align: middle;\n",
              "    }\n",
              "\n",
              "    .dataframe tbody tr th {\n",
              "        vertical-align: top;\n",
              "    }\n",
              "\n",
              "    .dataframe thead th {\n",
              "        text-align: right;\n",
              "    }\n",
              "</style>\n",
              "<table border=\"1\" class=\"dataframe\">\n",
              "  <thead>\n",
              "    <tr style=\"text-align: right;\">\n",
              "      <th></th>\n",
              "      <th>rating_id</th>\n",
              "      <th>user_id</th>\n",
              "      <th>pack_id</th>\n",
              "      <th>rating</th>\n",
              "    </tr>\n",
              "  </thead>\n",
              "  <tbody>\n",
              "    <tr>\n",
              "      <th>0</th>\n",
              "      <td>1</td>\n",
              "      <td>1</td>\n",
              "      <td>1</td>\n",
              "      <td>4</td>\n",
              "    </tr>\n",
              "    <tr>\n",
              "      <th>1</th>\n",
              "      <td>2</td>\n",
              "      <td>1</td>\n",
              "      <td>2</td>\n",
              "      <td>3</td>\n",
              "    </tr>\n",
              "    <tr>\n",
              "      <th>2</th>\n",
              "      <td>3</td>\n",
              "      <td>1</td>\n",
              "      <td>3</td>\n",
              "      <td>5</td>\n",
              "    </tr>\n",
              "    <tr>\n",
              "      <th>3</th>\n",
              "      <td>4</td>\n",
              "      <td>1</td>\n",
              "      <td>4</td>\n",
              "      <td>2</td>\n",
              "    </tr>\n",
              "    <tr>\n",
              "      <th>4</th>\n",
              "      <td>5</td>\n",
              "      <td>1</td>\n",
              "      <td>5</td>\n",
              "      <td>4</td>\n",
              "    </tr>\n",
              "  </tbody>\n",
              "</table>\n",
              "</div>\n",
              "      <button class=\"colab-df-convert\" onclick=\"convertToInteractive('df-3fbe9d4d-51da-4312-b9ba-cf41a7ad121f')\"\n",
              "              title=\"Convert this dataframe to an interactive table.\"\n",
              "              style=\"display:none;\">\n",
              "        \n",
              "  <svg xmlns=\"http://www.w3.org/2000/svg\" height=\"24px\"viewBox=\"0 0 24 24\"\n",
              "       width=\"24px\">\n",
              "    <path d=\"M0 0h24v24H0V0z\" fill=\"none\"/>\n",
              "    <path d=\"M18.56 5.44l.94 2.06.94-2.06 2.06-.94-2.06-.94-.94-2.06-.94 2.06-2.06.94zm-11 1L8.5 8.5l.94-2.06 2.06-.94-2.06-.94L8.5 2.5l-.94 2.06-2.06.94zm10 10l.94 2.06.94-2.06 2.06-.94-2.06-.94-.94-2.06-.94 2.06-2.06.94z\"/><path d=\"M17.41 7.96l-1.37-1.37c-.4-.4-.92-.59-1.43-.59-.52 0-1.04.2-1.43.59L10.3 9.45l-7.72 7.72c-.78.78-.78 2.05 0 2.83L4 21.41c.39.39.9.59 1.41.59.51 0 1.02-.2 1.41-.59l7.78-7.78 2.81-2.81c.8-.78.8-2.07 0-2.86zM5.41 20L4 18.59l7.72-7.72 1.47 1.35L5.41 20z\"/>\n",
              "  </svg>\n",
              "      </button>\n",
              "      \n",
              "  <style>\n",
              "    .colab-df-container {\n",
              "      display:flex;\n",
              "      flex-wrap:wrap;\n",
              "      gap: 12px;\n",
              "    }\n",
              "\n",
              "    .colab-df-convert {\n",
              "      background-color: #E8F0FE;\n",
              "      border: none;\n",
              "      border-radius: 50%;\n",
              "      cursor: pointer;\n",
              "      display: none;\n",
              "      fill: #1967D2;\n",
              "      height: 32px;\n",
              "      padding: 0 0 0 0;\n",
              "      width: 32px;\n",
              "    }\n",
              "\n",
              "    .colab-df-convert:hover {\n",
              "      background-color: #E2EBFA;\n",
              "      box-shadow: 0px 1px 2px rgba(60, 64, 67, 0.3), 0px 1px 3px 1px rgba(60, 64, 67, 0.15);\n",
              "      fill: #174EA6;\n",
              "    }\n",
              "\n",
              "    [theme=dark] .colab-df-convert {\n",
              "      background-color: #3B4455;\n",
              "      fill: #D2E3FC;\n",
              "    }\n",
              "\n",
              "    [theme=dark] .colab-df-convert:hover {\n",
              "      background-color: #434B5C;\n",
              "      box-shadow: 0px 1px 3px 1px rgba(0, 0, 0, 0.15);\n",
              "      filter: drop-shadow(0px 1px 2px rgba(0, 0, 0, 0.3));\n",
              "      fill: #FFFFFF;\n",
              "    }\n",
              "  </style>\n",
              "\n",
              "      <script>\n",
              "        const buttonEl =\n",
              "          document.querySelector('#df-3fbe9d4d-51da-4312-b9ba-cf41a7ad121f button.colab-df-convert');\n",
              "        buttonEl.style.display =\n",
              "          google.colab.kernel.accessAllowed ? 'block' : 'none';\n",
              "\n",
              "        async function convertToInteractive(key) {\n",
              "          const element = document.querySelector('#df-3fbe9d4d-51da-4312-b9ba-cf41a7ad121f');\n",
              "          const dataTable =\n",
              "            await google.colab.kernel.invokeFunction('convertToInteractive',\n",
              "                                                     [key], {});\n",
              "          if (!dataTable) return;\n",
              "\n",
              "          const docLinkHtml = 'Like what you see? Visit the ' +\n",
              "            '<a target=\"_blank\" href=https://colab.research.google.com/notebooks/data_table.ipynb>data table notebook</a>'\n",
              "            + ' to learn more about interactive tables.';\n",
              "          element.innerHTML = '';\n",
              "          dataTable['output_type'] = 'display_data';\n",
              "          await google.colab.output.renderOutput(dataTable, element);\n",
              "          const docLink = document.createElement('div');\n",
              "          docLink.innerHTML = docLinkHtml;\n",
              "          element.appendChild(docLink);\n",
              "        }\n",
              "      </script>\n",
              "    </div>\n",
              "  </div>\n",
              "  "
            ]
          },
          "metadata": {},
          "execution_count": 47
        }
      ]
    },
    {
      "cell_type": "code",
      "source": [
        "# Read in data\n",
        "pack = pd.read_csv('/content/package_tour.csv', sep=';')\n",
        "\n",
        "\n",
        "# Remove unnecessary columns\n",
        "pack = pack.drop(['duration', ' budget ', 'pack_bundle', 'Unnamed: 5'], axis=1)\n",
        "\n",
        "\n",
        "# Take a look at the data\n",
        "# pack.drop(columns='Unnamed: 5', inplace=True)\n",
        "# pack.drop(columns='duration', inplace=True)\n",
        "# # pack.drop(columns='budget', inplace=True)\n",
        "# pack.drop(columns='pack_bundle', inplace=True)\n",
        "pack.head()"
      ],
      "metadata": {
        "colab": {
          "base_uri": "https://localhost:8080/",
          "height": 206
        },
        "id": "fGG0dV8iqDps",
        "outputId": "359ba846-2b62-4ef0-e6d3-03d48fcd5406"
      },
      "execution_count": null,
      "outputs": [
        {
          "output_type": "execute_result",
          "data": {
            "text/plain": [
              "   pack_id         package_name\n",
              "0        1      Combo Program 1\n",
              "1        2      Combo Program 2\n",
              "2        3      Combo Program 3\n",
              "3        4  Overnight Package 1\n",
              "4        5  Overnight Package 2"
            ],
            "text/html": [
              "\n",
              "  <div id=\"df-3b592dec-e771-4663-bb30-9eecf99a84c0\">\n",
              "    <div class=\"colab-df-container\">\n",
              "      <div>\n",
              "<style scoped>\n",
              "    .dataframe tbody tr th:only-of-type {\n",
              "        vertical-align: middle;\n",
              "    }\n",
              "\n",
              "    .dataframe tbody tr th {\n",
              "        vertical-align: top;\n",
              "    }\n",
              "\n",
              "    .dataframe thead th {\n",
              "        text-align: right;\n",
              "    }\n",
              "</style>\n",
              "<table border=\"1\" class=\"dataframe\">\n",
              "  <thead>\n",
              "    <tr style=\"text-align: right;\">\n",
              "      <th></th>\n",
              "      <th>pack_id</th>\n",
              "      <th>package_name</th>\n",
              "    </tr>\n",
              "  </thead>\n",
              "  <tbody>\n",
              "    <tr>\n",
              "      <th>0</th>\n",
              "      <td>1</td>\n",
              "      <td>Combo Program 1</td>\n",
              "    </tr>\n",
              "    <tr>\n",
              "      <th>1</th>\n",
              "      <td>2</td>\n",
              "      <td>Combo Program 2</td>\n",
              "    </tr>\n",
              "    <tr>\n",
              "      <th>2</th>\n",
              "      <td>3</td>\n",
              "      <td>Combo Program 3</td>\n",
              "    </tr>\n",
              "    <tr>\n",
              "      <th>3</th>\n",
              "      <td>4</td>\n",
              "      <td>Overnight Package 1</td>\n",
              "    </tr>\n",
              "    <tr>\n",
              "      <th>4</th>\n",
              "      <td>5</td>\n",
              "      <td>Overnight Package 2</td>\n",
              "    </tr>\n",
              "  </tbody>\n",
              "</table>\n",
              "</div>\n",
              "      <button class=\"colab-df-convert\" onclick=\"convertToInteractive('df-3b592dec-e771-4663-bb30-9eecf99a84c0')\"\n",
              "              title=\"Convert this dataframe to an interactive table.\"\n",
              "              style=\"display:none;\">\n",
              "        \n",
              "  <svg xmlns=\"http://www.w3.org/2000/svg\" height=\"24px\"viewBox=\"0 0 24 24\"\n",
              "       width=\"24px\">\n",
              "    <path d=\"M0 0h24v24H0V0z\" fill=\"none\"/>\n",
              "    <path d=\"M18.56 5.44l.94 2.06.94-2.06 2.06-.94-2.06-.94-.94-2.06-.94 2.06-2.06.94zm-11 1L8.5 8.5l.94-2.06 2.06-.94-2.06-.94L8.5 2.5l-.94 2.06-2.06.94zm10 10l.94 2.06.94-2.06 2.06-.94-2.06-.94-.94-2.06-.94 2.06-2.06.94z\"/><path d=\"M17.41 7.96l-1.37-1.37c-.4-.4-.92-.59-1.43-.59-.52 0-1.04.2-1.43.59L10.3 9.45l-7.72 7.72c-.78.78-.78 2.05 0 2.83L4 21.41c.39.39.9.59 1.41.59.51 0 1.02-.2 1.41-.59l7.78-7.78 2.81-2.81c.8-.78.8-2.07 0-2.86zM5.41 20L4 18.59l7.72-7.72 1.47 1.35L5.41 20z\"/>\n",
              "  </svg>\n",
              "      </button>\n",
              "      \n",
              "  <style>\n",
              "    .colab-df-container {\n",
              "      display:flex;\n",
              "      flex-wrap:wrap;\n",
              "      gap: 12px;\n",
              "    }\n",
              "\n",
              "    .colab-df-convert {\n",
              "      background-color: #E8F0FE;\n",
              "      border: none;\n",
              "      border-radius: 50%;\n",
              "      cursor: pointer;\n",
              "      display: none;\n",
              "      fill: #1967D2;\n",
              "      height: 32px;\n",
              "      padding: 0 0 0 0;\n",
              "      width: 32px;\n",
              "    }\n",
              "\n",
              "    .colab-df-convert:hover {\n",
              "      background-color: #E2EBFA;\n",
              "      box-shadow: 0px 1px 2px rgba(60, 64, 67, 0.3), 0px 1px 3px 1px rgba(60, 64, 67, 0.15);\n",
              "      fill: #174EA6;\n",
              "    }\n",
              "\n",
              "    [theme=dark] .colab-df-convert {\n",
              "      background-color: #3B4455;\n",
              "      fill: #D2E3FC;\n",
              "    }\n",
              "\n",
              "    [theme=dark] .colab-df-convert:hover {\n",
              "      background-color: #434B5C;\n",
              "      box-shadow: 0px 1px 3px 1px rgba(0, 0, 0, 0.15);\n",
              "      filter: drop-shadow(0px 1px 2px rgba(0, 0, 0, 0.3));\n",
              "      fill: #FFFFFF;\n",
              "    }\n",
              "  </style>\n",
              "\n",
              "      <script>\n",
              "        const buttonEl =\n",
              "          document.querySelector('#df-3b592dec-e771-4663-bb30-9eecf99a84c0 button.colab-df-convert');\n",
              "        buttonEl.style.display =\n",
              "          google.colab.kernel.accessAllowed ? 'block' : 'none';\n",
              "\n",
              "        async function convertToInteractive(key) {\n",
              "          const element = document.querySelector('#df-3b592dec-e771-4663-bb30-9eecf99a84c0');\n",
              "          const dataTable =\n",
              "            await google.colab.kernel.invokeFunction('convertToInteractive',\n",
              "                                                     [key], {});\n",
              "          if (!dataTable) return;\n",
              "\n",
              "          const docLinkHtml = 'Like what you see? Visit the ' +\n",
              "            '<a target=\"_blank\" href=https://colab.research.google.com/notebooks/data_table.ipynb>data table notebook</a>'\n",
              "            + ' to learn more about interactive tables.';\n",
              "          element.innerHTML = '';\n",
              "          dataTable['output_type'] = 'display_data';\n",
              "          await google.colab.output.renderOutput(dataTable, element);\n",
              "          const docLink = document.createElement('div');\n",
              "          docLink.innerHTML = docLinkHtml;\n",
              "          element.appendChild(docLink);\n",
              "        }\n",
              "      </script>\n",
              "    </div>\n",
              "  </div>\n",
              "  "
            ]
          },
          "metadata": {},
          "execution_count": 48
        }
      ]
    },
    {
      "cell_type": "code",
      "source": [
        "pack.columns"
      ],
      "metadata": {
        "colab": {
          "base_uri": "https://localhost:8080/"
        },
        "id": "arF4hODHzuOk",
        "outputId": "24ae6a72-8137-4ba2-ae0f-7f0f9fdca971"
      },
      "execution_count": null,
      "outputs": [
        {
          "output_type": "execute_result",
          "data": {
            "text/plain": [
              "Index(['pack_id', 'package_name'], dtype='object')"
            ]
          },
          "metadata": {},
          "execution_count": 103
        }
      ]
    },
    {
      "cell_type": "code",
      "source": [
        "# Get the dataset information\n",
        "ratings.info()"
      ],
      "metadata": {
        "colab": {
          "base_uri": "https://localhost:8080/"
        },
        "id": "G7GxBiNuqgWn",
        "outputId": "1e48f4a2-5235-4c23-92b6-188d736d3202"
      },
      "execution_count": null,
      "outputs": [
        {
          "output_type": "stream",
          "name": "stdout",
          "text": [
            "<class 'pandas.core.frame.DataFrame'>\n",
            "RangeIndex: 120 entries, 0 to 119\n",
            "Data columns (total 4 columns):\n",
            " #   Column     Non-Null Count  Dtype\n",
            "---  ------     --------------  -----\n",
            " 0   rating_id  120 non-null    int64\n",
            " 1   user_id    120 non-null    int64\n",
            " 2   pack_id    120 non-null    int64\n",
            " 3   rating     120 non-null    int64\n",
            "dtypes: int64(4)\n",
            "memory usage: 3.9 KB\n"
          ]
        }
      ]
    },
    {
      "cell_type": "code",
      "source": [
        "# Get the dataset information\n",
        "pack.info()"
      ],
      "metadata": {
        "colab": {
          "base_uri": "https://localhost:8080/"
        },
        "id": "RPK58T0QrIxB",
        "outputId": "1f2a55e1-7747-44dd-bc60-64c76cffebf5"
      },
      "execution_count": null,
      "outputs": [
        {
          "output_type": "stream",
          "name": "stdout",
          "text": [
            "<class 'pandas.core.frame.DataFrame'>\n",
            "RangeIndex: 5 entries, 0 to 4\n",
            "Data columns (total 2 columns):\n",
            " #   Column        Non-Null Count  Dtype \n",
            "---  ------        --------------  ----- \n",
            " 0   pack_id       5 non-null      int64 \n",
            " 1   package_name  5 non-null      object\n",
            "dtypes: int64(1), object(1)\n",
            "memory usage: 208.0+ bytes\n"
          ]
        }
      ]
    },
    {
      "cell_type": "code",
      "source": [
        "# Visualizing with the act_rating column\n",
        "act_ratings=ratings['rating'].value_counts()\n",
        "\n",
        "dims = (14, 6)\n",
        "fig, ax = plt.subplots(figsize=dims)\n",
        "ax = sns.countplot(x=ratings.rating)"
      ],
      "metadata": {
        "colab": {
          "base_uri": "https://localhost:8080/",
          "height": 473
        },
        "id": "ykXZanVAxtnv",
        "outputId": "2ab37816-7e2a-4ddd-88d0-143a5bf82e43"
      },
      "execution_count": null,
      "outputs": [
        {
          "output_type": "display_data",
          "data": {
            "text/plain": [
              "<Figure size 1400x600 with 1 Axes>"
            ],
            "image/png": "[encoded data removed]"
          },
          "metadata": {}
        }
      ]
    },
    {
      "cell_type": "code",
      "source": [
        "# Number of users\n",
        "print('The ratings dataset has', ratings['user_id'].nunique(), 'unique users')\n",
        "\n",
        "# Number of package\n",
        "print('The ratings dataset has', ratings['pack_id'].nunique(), 'unique package')\n",
        "\n",
        "# Number of ratings\n",
        "print('The ratings dataset has', ratings['rating'].nunique(), 'unique ratings')\n",
        "\n",
        "# List of unique ratings\n",
        "print('The unique ratings are', sorted(ratings['rating'].unique()))"
      ],
      "metadata": {
        "colab": {
          "base_uri": "https://localhost:8080/"
        },
        "id": "VQbPVG5IrLUF",
        "outputId": "e11e2f7a-b41e-4205-a6f4-c9f0d6488332"
      },
      "execution_count": null,
      "outputs": [
        {
          "output_type": "stream",
          "name": "stdout",
          "text": [
            "The ratings dataset has 30 unique users\n",
            "The ratings dataset has 5 unique package\n",
            "The ratings dataset has 4 unique ratings\n",
            "The unique ratings are [2, 3, 4, 5]\n"
          ]
        }
      ]
    },
    {
      "cell_type": "code",
      "source": [
        "# Merge ratings and package datasets\n",
        "df = pd.merge(ratings, pack, on='pack_id', how='inner')\n",
        "\n",
        "# Take a look at the df\n",
        "df.head()\n"
      ],
      "metadata": {
        "colab": {
          "base_uri": "https://localhost:8080/",
          "height": 206
        },
        "id": "h7V_ExNe6u_r",
        "outputId": "2fc77ef9-17f7-48ea-a08e-c05780f5b826"
      },
      "execution_count": null,
      "outputs": [
        {
          "output_type": "execute_result",
          "data": {
            "text/plain": [
              "   rating_id  user_id  pack_id  rating     package_name\n",
              "0          1        1        1       4  Combo Program 1\n",
              "1          6        2        1       4  Combo Program 1\n",
              "2         11        3        1       4  Combo Program 1\n",
              "3         16        4        1       4  Combo Program 1\n",
              "4         21        5        1       4  Combo Program 1"
            ],
            "text/html": [
              "\n",
              "  <div id=\"df-7d1d4c32-5405-419f-afde-c9574465aee5\">\n",
              "    <div class=\"colab-df-container\">\n",
              "      <div>\n",
              "<style scoped>\n",
              "    .dataframe tbody tr th:only-of-type {\n",
              "        vertical-align: middle;\n",
              "    }\n",
              "\n",
              "    .dataframe tbody tr th {\n",
              "        vertical-align: top;\n",
              "    }\n",
              "\n",
              "    .dataframe thead th {\n",
              "        text-align: right;\n",
              "    }\n",
              "</style>\n",
              "<table border=\"1\" class=\"dataframe\">\n",
              "  <thead>\n",
              "    <tr style=\"text-align: right;\">\n",
              "      <th></th>\n",
              "      <th>rating_id</th>\n",
              "      <th>user_id</th>\n",
              "      <th>pack_id</th>\n",
              "      <th>rating</th>\n",
              "      <th>package_name</th>\n",
              "    </tr>\n",
              "  </thead>\n",
              "  <tbody>\n",
              "    <tr>\n",
              "      <th>0</th>\n",
              "      <td>1</td>\n",
              "      <td>1</td>\n",
              "      <td>1</td>\n",
              "      <td>4</td>\n",
              "      <td>Combo Program 1</td>\n",
              "    </tr>\n",
              "    <tr>\n",
              "      <th>1</th>\n",
              "      <td>6</td>\n",
              "      <td>2</td>\n",
              "      <td>1</td>\n",
              "      <td>4</td>\n",
              "      <td>Combo Program 1</td>\n",
              "    </tr>\n",
              "    <tr>\n",
              "      <th>2</th>\n",
              "      <td>11</td>\n",
              "      <td>3</td>\n",
              "      <td>1</td>\n",
              "      <td>4</td>\n",
              "      <td>Combo Program 1</td>\n",
              "    </tr>\n",
              "    <tr>\n",
              "      <th>3</th>\n",
              "      <td>16</td>\n",
              "      <td>4</td>\n",
              "      <td>1</td>\n",
              "      <td>4</td>\n",
              "      <td>Combo Program 1</td>\n",
              "    </tr>\n",
              "    <tr>\n",
              "      <th>4</th>\n",
              "      <td>21</td>\n",
              "      <td>5</td>\n",
              "      <td>1</td>\n",
              "      <td>4</td>\n",
              "      <td>Combo Program 1</td>\n",
              "    </tr>\n",
              "  </tbody>\n",
              "</table>\n",
              "</div>\n",
              "      <button class=\"colab-df-convert\" onclick=\"convertToInteractive('df-7d1d4c32-5405-419f-afde-c9574465aee5')\"\n",
              "              title=\"Convert this dataframe to an interactive table.\"\n",
              "              style=\"display:none;\">\n",
              "        \n",
              "  <svg xmlns=\"http://www.w3.org/2000/svg\" height=\"24px\"viewBox=\"0 0 24 24\"\n",
              "       width=\"24px\">\n",
              "    <path d=\"M0 0h24v24H0V0z\" fill=\"none\"/>\n",
              "    <path d=\"M18.56 5.44l.94 2.06.94-2.06 2.06-.94-2.06-.94-.94-2.06-.94 2.06-2.06.94zm-11 1L8.5 8.5l.94-2.06 2.06-.94-2.06-.94L8.5 2.5l-.94 2.06-2.06.94zm10 10l.94 2.06.94-2.06 2.06-.94-2.06-.94-.94-2.06-.94 2.06-2.06.94z\"/><path d=\"M17.41 7.96l-1.37-1.37c-.4-.4-.92-.59-1.43-.59-.52 0-1.04.2-1.43.59L10.3 9.45l-7.72 7.72c-.78.78-.78 2.05 0 2.83L4 21.41c.39.39.9.59 1.41.59.51 0 1.02-.2 1.41-.59l7.78-7.78 2.81-2.81c.8-.78.8-2.07 0-2.86zM5.41 20L4 18.59l7.72-7.72 1.47 1.35L5.41 20z\"/>\n",
              "  </svg>\n",
              "      </button>\n",
              "      \n",
              "  <style>\n",
              "    .colab-df-container {\n",
              "      display:flex;\n",
              "      flex-wrap:wrap;\n",
              "      gap: 12px;\n",
              "    }\n",
              "\n",
              "    .colab-df-convert {\n",
              "      background-color: #E8F0FE;\n",
              "      border: none;\n",
              "      border-radius: 50%;\n",
              "      cursor: pointer;\n",
              "      display: none;\n",
              "      fill: #1967D2;\n",
              "      height: 32px;\n",
              "      padding: 0 0 0 0;\n",
              "      width: 32px;\n",
              "    }\n",
              "\n",
              "    .colab-df-convert:hover {\n",
              "      background-color: #E2EBFA;\n",
              "      box-shadow: 0px 1px 2px rgba(60, 64, 67, 0.3), 0px 1px 3px 1px rgba(60, 64, 67, 0.15);\n",
              "      fill: #174EA6;\n",
              "    }\n",
              "\n",
              "    [theme=dark] .colab-df-convert {\n",
              "      background-color: #3B4455;\n",
              "      fill: #D2E3FC;\n",
              "    }\n",
              "\n",
              "    [theme=dark] .colab-df-convert:hover {\n",
              "      background-color: #434B5C;\n",
              "      box-shadow: 0px 1px 3px 1px rgba(0, 0, 0, 0.15);\n",
              "      filter: drop-shadow(0px 1px 2px rgba(0, 0, 0, 0.3));\n",
              "      fill: #FFFFFF;\n",
              "    }\n",
              "  </style>\n",
              "\n",
              "      <script>\n",
              "        const buttonEl =\n",
              "          document.querySelector('#df-7d1d4c32-5405-419f-afde-c9574465aee5 button.colab-df-convert');\n",
              "        buttonEl.style.display =\n",
              "          google.colab.kernel.accessAllowed ? 'block' : 'none';\n",
              "\n",
              "        async function convertToInteractive(key) {\n",
              "          const element = document.querySelector('#df-7d1d4c32-5405-419f-afde-c9574465aee5');\n",
              "          const dataTable =\n",
              "            await google.colab.kernel.invokeFunction('convertToInteractive',\n",
              "                                                     [key], {});\n",
              "          if (!dataTable) return;\n",
              "\n",
              "          const docLinkHtml = 'Like what you see? Visit the ' +\n",
              "            '<a target=\"_blank\" href=https://colab.research.google.com/notebooks/data_table.ipynb>data table notebook</a>'\n",
              "            + ' to learn more about interactive tables.';\n",
              "          element.innerHTML = '';\n",
              "          dataTable['output_type'] = 'display_data';\n",
              "          await google.colab.output.renderOutput(dataTable, element);\n",
              "          const docLink = document.createElement('div');\n",
              "          docLink.innerHTML = docLinkHtml;\n",
              "          element.appendChild(docLink);\n",
              "        }\n",
              "      </script>\n",
              "    </div>\n",
              "  </div>\n",
              "  "
            ]
          },
          "metadata": {},
          "execution_count": 154
        }
      ]
    },
    {
      "cell_type": "code",
      "source": [
        "# Load data from DataFrame\n",
        "reader = Reader(rating_scale=(1, 5))\n",
        "data = Dataset.load_from_df(df[['user_id', 'pack_id', 'rating']], reader)\n"
      ],
      "metadata": {
        "id": "DAfUOOXA6wZ3"
      },
      "execution_count": null,
      "outputs": []
    },
    {
      "cell_type": "code",
      "source": [
        "average_ratings = pd.DataFrame(data.raw_ratings, columns=['user_id', 'pack_id', 'pack_rating', 'timestamp'])\n",
        "average_ratings = average_ratings.groupby('pack_id')['pack_rating'].mean().reset_index()\n",
        "average_ratings.head(10)"
      ],
      "metadata": {
        "colab": {
          "base_uri": "https://localhost:8080/",
          "height": 206
        },
        "id": "4d_Ea7y2RbyX",
        "outputId": "8e550b45-f85b-46e8-a750-548d0b1c448f"
      },
      "execution_count": null,
      "outputs": [
        {
          "output_type": "execute_result",
          "data": {
            "text/plain": [
              "   pack_id  pack_rating\n",
              "0        1          4.0\n",
              "1        2          3.0\n",
              "2        3          5.0\n",
              "3        4          2.0\n",
              "4        5          4.0"
            ],
            "text/html": [
              "\n",
              "  <div id=\"df-58f687ac-2144-47fa-9710-712f7d9b6753\">\n",
              "    <div class=\"colab-df-container\">\n",
              "      <div>\n",
              "<style scoped>\n",
              "    .dataframe tbody tr th:only-of-type {\n",
              "        vertical-align: middle;\n",
              "    }\n",
              "\n",
              "    .dataframe tbody tr th {\n",
              "        vertical-align: top;\n",
              "    }\n",
              "\n",
              "    .dataframe thead th {\n",
              "        text-align: right;\n",
              "    }\n",
              "</style>\n",
              "<table border=\"1\" class=\"dataframe\">\n",
              "  <thead>\n",
              "    <tr style=\"text-align: right;\">\n",
              "      <th></th>\n",
              "      <th>pack_id</th>\n",
              "      <th>pack_rating</th>\n",
              "    </tr>\n",
              "  </thead>\n",
              "  <tbody>\n",
              "    <tr>\n",
              "      <th>0</th>\n",
              "      <td>1</td>\n",
              "      <td>4.0</td>\n",
              "    </tr>\n",
              "    <tr>\n",
              "      <th>1</th>\n",
              "      <td>2</td>\n",
              "      <td>3.0</td>\n",
              "    </tr>\n",
              "    <tr>\n",
              "      <th>2</th>\n",
              "      <td>3</td>\n",
              "      <td>5.0</td>\n",
              "    </tr>\n",
              "    <tr>\n",
              "      <th>3</th>\n",
              "      <td>4</td>\n",
              "      <td>2.0</td>\n",
              "    </tr>\n",
              "    <tr>\n",
              "      <th>4</th>\n",
              "      <td>5</td>\n",
              "      <td>4.0</td>\n",
              "    </tr>\n",
              "  </tbody>\n",
              "</table>\n",
              "</div>\n",
              "      <button class=\"colab-df-convert\" onclick=\"convertToInteractive('df-58f687ac-2144-47fa-9710-712f7d9b6753')\"\n",
              "              title=\"Convert this dataframe to an interactive table.\"\n",
              "              style=\"display:none;\">\n",
              "        \n",
              "  <svg xmlns=\"http://www.w3.org/2000/svg\" height=\"24px\"viewBox=\"0 0 24 24\"\n",
              "       width=\"24px\">\n",
              "    <path d=\"M0 0h24v24H0V0z\" fill=\"none\"/>\n",
              "    <path d=\"M18.56 5.44l.94 2.06.94-2.06 2.06-.94-2.06-.94-.94-2.06-.94 2.06-2.06.94zm-11 1L8.5 8.5l.94-2.06 2.06-.94-2.06-.94L8.5 2.5l-.94 2.06-2.06.94zm10 10l.94 2.06.94-2.06 2.06-.94-2.06-.94-.94-2.06-.94 2.06-2.06.94z\"/><path d=\"M17.41 7.96l-1.37-1.37c-.4-.4-.92-.59-1.43-.59-.52 0-1.04.2-1.43.59L10.3 9.45l-7.72 7.72c-.78.78-.78 2.05 0 2.83L4 21.41c.39.39.9.59 1.41.59.51 0 1.02-.2 1.41-.59l7.78-7.78 2.81-2.81c.8-.78.8-2.07 0-2.86zM5.41 20L4 18.59l7.72-7.72 1.47 1.35L5.41 20z\"/>\n",
              "  </svg>\n",
              "      </button>\n",
              "      \n",
              "  <style>\n",
              "    .colab-df-container {\n",
              "      display:flex;\n",
              "      flex-wrap:wrap;\n",
              "      gap: 12px;\n",
              "    }\n",
              "\n",
              "    .colab-df-convert {\n",
              "      background-color: #E8F0FE;\n",
              "      border: none;\n",
              "      border-radius: 50%;\n",
              "      cursor: pointer;\n",
              "      display: none;\n",
              "      fill: #1967D2;\n",
              "      height: 32px;\n",
              "      padding: 0 0 0 0;\n",
              "      width: 32px;\n",
              "    }\n",
              "\n",
              "    .colab-df-convert:hover {\n",
              "      background-color: #E2EBFA;\n",
              "      box-shadow: 0px 1px 2px rgba(60, 64, 67, 0.3), 0px 1px 3px 1px rgba(60, 64, 67, 0.15);\n",
              "      fill: #174EA6;\n",
              "    }\n",
              "\n",
              "    [theme=dark] .colab-df-convert {\n",
              "      background-color: #3B4455;\n",
              "      fill: #D2E3FC;\n",
              "    }\n",
              "\n",
              "    [theme=dark] .colab-df-convert:hover {\n",
              "      background-color: #434B5C;\n",
              "      box-shadow: 0px 1px 3px 1px rgba(0, 0, 0, 0.15);\n",
              "      filter: drop-shadow(0px 1px 2px rgba(0, 0, 0, 0.3));\n",
              "      fill: #FFFFFF;\n",
              "    }\n",
              "  </style>\n",
              "\n",
              "      <script>\n",
              "        const buttonEl =\n",
              "          document.querySelector('#df-58f687ac-2144-47fa-9710-712f7d9b6753 button.colab-df-convert');\n",
              "        buttonEl.style.display =\n",
              "          google.colab.kernel.accessAllowed ? 'block' : 'none';\n",
              "\n",
              "        async function convertToInteractive(key) {\n",
              "          const element = document.querySelector('#df-58f687ac-2144-47fa-9710-712f7d9b6753');\n",
              "          const dataTable =\n",
              "            await google.colab.kernel.invokeFunction('convertToInteractive',\n",
              "                                                     [key], {});\n",
              "          if (!dataTable) return;\n",
              "\n",
              "          const docLinkHtml = 'Like what you see? Visit the ' +\n",
              "            '<a target=\"_blank\" href=https://colab.research.google.com/notebooks/data_table.ipynb>data table notebook</a>'\n",
              "            + ' to learn more about interactive tables.';\n",
              "          element.innerHTML = '';\n",
              "          dataTable['output_type'] = 'display_data';\n",
              "          await google.colab.output.renderOutput(dataTable, element);\n",
              "          const docLink = document.createElement('div');\n",
              "          docLink.innerHTML = docLinkHtml;\n",
              "          element.appendChild(docLink);\n",
              "        }\n",
              "      </script>\n",
              "    </div>\n",
              "  </div>\n",
              "  "
            ]
          },
          "metadata": {},
          "execution_count": 156
        }
      ]
    },
    {
      "cell_type": "code",
      "source": [
        "# # Dividing the dataset into training data and test data\n",
        "# trainset = data.build_full_trainset()\n",
        "\n",
        "# Split the dataset into training set and test set\n",
        "# trainset, testset = train_test_split(data, test_size=0.2)\n",
        "# Split the data into training and test sets\n",
        "trainset, testset = train_test_split(data, test_size=0.2, random_state=42)"
      ],
      "metadata": {
        "id": "tfIInfzI62gS"
      },
      "execution_count": null,
      "outputs": []
    },
    {
      "cell_type": "markdown",
      "source": [
        "### SVD MODEL"
      ],
      "metadata": {
        "id": "zu7jNnnt_fGA"
      }
    },
    {
      "cell_type": "code",
      "source": [
        "# Instantiate the SVD model with adjusted hyperparameters\n",
        "model = SVD(n_factors=5, reg_all=0.02, lr_all=0.01, n_epochs=10)\n"
      ],
      "metadata": {
        "id": "Kzm15kCT7IeF"
      },
      "execution_count": null,
      "outputs": []
    },
    {
      "cell_type": "code",
      "source": [
        "#cross validation\n",
        "cv_results = cross_validate(model, data, measures=['RMSE', 'MAE','MSE'], cv=5, verbose=True)\n"
      ],
      "metadata": {
        "colab": {
          "base_uri": "https://localhost:8080/"
        },
        "id": "LlHYqafM96va",
        "outputId": "e7481a34-d8f9-45a7-d88b-3188194a85c0"
      },
      "execution_count": null,
      "outputs": [
        {
          "output_type": "stream",
          "name": "stdout",
          "text": [
            "Evaluating RMSE, MAE, MSE of algorithm SVD on 5 split(s).\n",
            "\n",
            "                  Fold 1  Fold 2  Fold 3  Fold 4  Fold 5  Mean    Std     \n",
            "RMSE (testset)    0.1887  0.1560  0.1461  0.1304  0.1411  0.1524  0.0199  \n",
            "MAE (testset)     0.1561  0.1392  0.1212  0.1143  0.1198  0.1301  0.0155  \n",
            "MSE (testset)     0.0356  0.0243  0.0213  0.0170  0.0199  0.0236  0.0064  \n",
            "Fit time          0.00    0.00    0.00    0.00    0.00    0.00    0.00    \n",
            "Test time         0.00    0.00    0.00    0.00    0.00    0.00    0.00    \n"
          ]
        }
      ]
    },
    {
      "cell_type": "code",
      "source": [
        "# Extract the average scores from cross-validation results\n",
        "avg_rmse = np.mean(cv_results['test_rmse'])\n",
        "avg_mae = np.mean(cv_results['test_mae'])\n",
        "avg_mse = np.mean(cv_results['test_mse'])\n",
        "\n",
        "# Print the average scores\n",
        "print(\"Cross-Validation - Average RMSE:\", avg_rmse)\n",
        "print(\"Cross-Validation - Average MAE:\", avg_mae)\n",
        "print(\"Cross-Validation - Average MSE:\", avg_mse)"
      ],
      "metadata": {
        "colab": {
          "base_uri": "https://localhost:8080/"
        },
        "id": "Jz_ogD5jIsrm",
        "outputId": "fde61638-4c20-46fd-e20f-ccce130b7262"
      },
      "execution_count": null,
      "outputs": [
        {
          "output_type": "stream",
          "name": "stdout",
          "text": [
            "Cross-Validation - Average RMSE: 0.15244872532466985\n",
            "Cross-Validation - Average MAE: 0.13011474859097896\n",
            "Cross-Validation - Average MSE: 0.02363692446673515\n"
          ]
        }
      ]
    },
    {
      "cell_type": "code",
      "source": [
        "# Adjust the regularization parameter and re-evaluate\n",
        "reg_param = 0.1\n",
        "model.reg_all = reg_param\n",
        "\n",
        "# Train the model on the full dataset\n",
        "# trainset = data.build_full_trainset()\n",
        "model.fit(trainset)"
      ],
      "metadata": {
        "colab": {
          "base_uri": "https://localhost:8080/"
        },
        "id": "DehimsMHIvd8",
        "outputId": "18dd22f7-0668-466d-c108-d9ace92f2434"
      },
      "execution_count": null,
      "outputs": [
        {
          "output_type": "execute_result",
          "data": {
            "text/plain": [
              "<surprise.prediction_algorithms.matrix_factorization.SVD at 0x7fb2a9129e70>"
            ]
          },
          "metadata": {},
          "execution_count": 211
        }
      ]
    },
    {
      "cell_type": "code",
      "source": [
        "# Predict on the training set\n",
        "train_predictions = model.test(trainset.build_testset())\n",
        "\n",
        "# Calculate training set errors\n",
        "train_rmse = accuracy.rmse(train_predictions)\n",
        "train_mae = accuracy.mae(train_predictions)\n",
        "train_mse = accuracy.mse(train_predictions)\n",
        "\n",
        "# Print training set errors\n",
        "print(\"Training Set - RMSE:\", train_rmse)\n",
        "print(\"Training Set - MAE:\", train_mae)\n",
        "print(\"Training Set - MSE:\", train_mse)\n",
        "# Predict on the test set\n",
        "# testset = trainset.build_testset()\n",
        "test_predictions = model.test(testset)\n",
        "\n",
        "# Calculate test set errors\n",
        "test_rmse = accuracy.rmse(test_predictions)\n",
        "test_mae = accuracy.mae(test_predictions)\n",
        "test_mse = accuracy.mse(test_predictions)\n",
        "\n",
        "# Print test set errors\n",
        "print(\"Test Set - RMSE:\", test_rmse)\n",
        "print(\"Test Set - MAE:\", test_mae)\n",
        "print(\"Test Set - MSE:\", test_mse)"
      ],
      "metadata": {
        "colab": {
          "base_uri": "https://localhost:8080/"
        },
        "id": "jDos0IYgJYUB",
        "outputId": "6f78681b-6dcf-40ce-9f5e-b8ef3dc2cdfc"
      },
      "execution_count": null,
      "outputs": [
        {
          "output_type": "stream",
          "name": "stdout",
          "text": [
            "RMSE: 0.1157\n",
            "MAE:  0.0920\n",
            "MSE: 0.0134\n",
            "Training Set - RMSE: 0.11572227579749503\n",
            "Training Set - MAE: 0.09203503212917143\n",
            "Training Set - MSE: 0.013391645115751503\n",
            "RMSE: 0.1646\n",
            "MAE:  0.1316\n",
            "MSE: 0.0271\n",
            "Test Set - RMSE: 0.16456126909049829\n",
            "Test Set - MAE: 0.1315811464742252\n",
            "Test Set - MSE: 0.027080411284675383\n"
          ]
        }
      ]
    },
    {
      "cell_type": "code",
      "source": [
        "user_id = 2\n",
        "pack_id = 1\n",
        "predicted_rating = model.predict(user_id, pack_id).est\n",
        "print(\"Predicted rating:\", predicted_rating)\n"
      ],
      "metadata": {
        "colab": {
          "base_uri": "https://localhost:8080/"
        },
        "id": "DPeSOGJ-7NFt",
        "outputId": "e75a5a7f-d5c3-4740-adfd-10ed42e8a4b8"
      },
      "execution_count": null,
      "outputs": [
        {
          "output_type": "stream",
          "name": "stdout",
          "text": [
            "Predicted rating: 4.047544514030562\n"
          ]
        }
      ]
    },
    {
      "cell_type": "code",
      "source": [
        "from surprise import NMF\n",
        "\n",
        "\n",
        "# Create an NMF model\n",
        "model = NMF(n_factors=5,biased=True)\n",
        "\n",
        "\n",
        "# Train the NMF model on the training set\n",
        "model.fit(trainset)\n",
        "\n",
        "# Make predictions on the test set\n",
        "predictions = model.test(testset)\n",
        "train_predictions = model.test(trainset.build_testset())\n",
        "\n",
        "\n",
        "# Calculate the RMSE and MAE scores\n",
        "rmse = accuracy.rmse(predictions)\n",
        "mae = accuracy.mae(predictions)\n",
        "trmse = accuracy.rmse(train_predictions)\n",
        "tmae = accuracy.mae(train_predictions)\n",
        "\n",
        "print(\"Test set RMSE score:\", rmse)\n",
        "print(\"Test set MAE score:\", mae)\n",
        "\n",
        "print(\"train set RMSE score:\", trmse)\n",
        "print(\"train set MAE score:\", tmae)\n"
      ],
      "metadata": {
        "id": "tslkqdbdLOxx",
        "colab": {
          "base_uri": "https://localhost:8080/"
        },
        "outputId": "559b4872-9cc3-4dca-ecb9-6257de5efa39"
      },
      "execution_count": null,
      "outputs": [
        {
          "output_type": "stream",
          "name": "stdout",
          "text": [
            "RMSE: 0.1643\n",
            "MAE:  0.1098\n",
            "RMSE: 0.0508\n",
            "MAE:  0.0416\n",
            "Test set RMSE score: 0.16432766786770808\n",
            "Test set MAE score: 0.10980125637744528\n",
            "train set RMSE score: 0.050813739433898185\n",
            "train set MAE score: 0.041581491467137764\n"
          ]
        }
      ]
    },
    {
      "cell_type": "code",
      "source": [
        "from surprise import KNNBasic\n",
        "from surprise.model_selection import train_test_split\n",
        "from surprise import accuracy\n",
        "\n",
        "# Create a KNNBasic model\n",
        "model = KNNBasic()\n",
        "\n",
        "\n",
        "# Train the KNNBasic model on the training set\n",
        "model.fit(trainset)\n",
        "\n",
        "# Make predictions on the test set\n",
        "predictions = model.test(testset)\n",
        "\n",
        "# Calculate the RMSE and MAE scores\n",
        "rmse = accuracy.rmse(predictions)\n",
        "mae = accuracy.mae(predictions)\n",
        "\n",
        "print(\"Test set RMSE score:\", rmse)\n",
        "print(\"Test set MAE score:\", mae)\n"
      ],
      "metadata": {
        "colab": {
          "base_uri": "https://localhost:8080/"
        },
        "id": "OeRvbesVDUOm",
        "outputId": "249a0afc-3ff8-4c4a-b70a-99c9f23fecae"
      },
      "execution_count": null,
      "outputs": [
        {
          "output_type": "stream",
          "name": "stdout",
          "text": [
            "Computing the msd similarity matrix...\n",
            "Done computing similarity matrix.\n",
            "RMSE: 0.0000\n",
            "MAE:  0.0000\n",
            "Test set RMSE score: 0.0\n",
            "Test set MAE score: 0.0\n"
          ]
        }
      ]
    },
    {
      "cell_type": "code",
      "source": [
        "from surprise import KNNBasic\n",
        "\n",
        "\n",
        "# Create a KNNBasic model with user-based collaborative filtering and Pearson correlation\n",
        "model = KNNBasic(k=20, sim_options={'name': 'pearson', 'user_based': True})\n",
        "\n",
        "\n",
        "# Train the KNNBasic model on the training set\n",
        "model.fit(trainset)\n",
        "\n",
        "# Make predictions on the test set\n",
        "predictions = model.test(testset)\n",
        "\n",
        "# Calculate the RMSE and MAE scores\n",
        "rmse = accuracy.rmse(predictions)\n",
        "mae = accuracy.mae(predictions)\n",
        "\n",
        "print(\"Test set RMSE score:\", rmse)\n",
        "print(\"Test set MAE score:\", mae)\n"
      ],
      "metadata": {
        "colab": {
          "base_uri": "https://localhost:8080/"
        },
        "id": "3RoBIwrsDsTr",
        "outputId": "9e243968-7537-499b-f8c5-0d1635becbdb"
      },
      "execution_count": null,
      "outputs": [
        {
          "output_type": "stream",
          "name": "stdout",
          "text": [
            "Computing the pearson similarity matrix...\n",
            "Done computing similarity matrix.\n",
            "RMSE: 0.0000\n",
            "MAE:  0.0000\n",
            "Test set RMSE score: 0.0\n",
            "Test set MAE score: 0.0\n"
          ]
        }
      ]
    },
    {
      "cell_type": "code",
      "source": [
        "from surprise import SVDpp\n",
        "from surprise.model_selection import cross_validate, GridSearchCV\n",
        "from surprise import accuracy\n",
        "\n",
        "\n",
        "# Create an SVD++ model\n",
        "model = SVDpp()\n",
        "\n",
        "\n",
        "model.fit(trainset)\n",
        "\n",
        "\n",
        "# Make predictions on the test set\n",
        "predictions = model.test(testset)\n",
        "train_predictions = model.test(trainset.build_testset())\n",
        "\n",
        "\n",
        "# Calculate the RMSE and MAE scores\n",
        "rmse = accuracy.rmse(predictions)\n",
        "mae = accuracy.mae(predictions)\n",
        "trmse = accuracy.rmse(train_predictions)\n",
        "tmae = accuracy.mae(train_predictions)\n",
        "\n",
        "print(\"Test set RMSE score:\", rmse)\n",
        "print(\"Test set MAE score:\", mae)\n",
        "\n",
        "print(\"train set RMSE score:\", trmse)\n",
        "print(\"train set MAE score:\", tmae)\n",
        "\n"
      ],
      "metadata": {
        "colab": {
          "base_uri": "https://localhost:8080/"
        },
        "id": "UWy4rwH1EAxY",
        "outputId": "2f9f579b-c1f7-40b0-f9c9-7875b13fb911"
      },
      "execution_count": null,
      "outputs": [
        {
          "output_type": "stream",
          "name": "stdout",
          "text": [
            "RMSE: 0.1582\n",
            "MAE:  0.1191\n",
            "RMSE: 0.0632\n",
            "MAE:  0.0447\n",
            "Test set RMSE score: 0.15821410422366075\n",
            "Test set MAE score: 0.11911278747398595\n",
            "train set RMSE score: 0.06321240317000883\n",
            "train set MAE score: 0.04474941239064674\n"
          ]
        }
      ]
    },
    {
      "cell_type": "markdown",
      "source": [
        "### RECOMENDER SYSTEM"
      ],
      "metadata": {
        "id": "YRHKIZrn_YGN"
      }
    },
    {
      "cell_type": "code",
      "source": [
        "#if user exist in rating user_id\n",
        "\n",
        "def get_top_recommendations(user_id, model, data):\n",
        "    all_pack_ids = list(data.df['pack_id'].unique())  # Get all unique pack IDs\n",
        "\n",
        "    # Predict ratings for each pack and store them in a dictionary\n",
        "    predicted_ratings = {}\n",
        "    for pack_id in all_pack_ids:\n",
        "        predicted_rating = model.predict(user_id, pack_id).est\n",
        "        predicted_ratings[pack_id] = predicted_rating\n",
        "\n",
        "    # Sort the predicted ratings in descending order\n",
        "    sorted_ratings = sorted(predicted_ratings.items(), key=lambda x: x[1], reverse=True)\n",
        "\n",
        "    # Get the top 4 recommendations\n",
        "    top_recommendations = sorted_ratings[:4]\n",
        "\n",
        "    return top_recommendations\n",
        "    \n",
        "#if user not exist in rating user_id\n",
        "def get_top_popular_packs(data):\n",
        "    # Get the list of all pack IDs\n",
        "    all_pack_ids = list(data.df['pack_id'].unique())  # Get all unique pack IDs\n",
        "\n",
        "    # Calculate the popularity of each pack (e.g., based on the number of ratings or interactions)\n",
        "    pack_popularity = {}\n",
        "    for pack_id in all_pack_ids:\n",
        "        pack_popularity[pack_id] = len(data.df[data.df['pack_id'] == pack_id])\n",
        "\n",
        "    # Sort the pack popularity in descending order\n",
        "    sorted_popularity = sorted(pack_popularity.items(), key=lambda x: x[1], reverse=True)\n",
        "\n",
        "    # Get the top 4 most popular packs as recommendations\n",
        "    top_recommendations = sorted_popularity[:4]\n",
        "\n",
        "    return top_recommendations\n",
        "\n",
        "def precision(actual_items, recommended_items):\n",
        "    relevant_items = set(actual_items)  # Set of actual items\n",
        "    recommended_set = set(recommended_items)  # Set of recommended items\n",
        "    # Calculate the number of recommended items that are relevant\n",
        "    num_relevant_items = len(relevant_items.intersection(recommended_set))\n",
        "    # Calculate precision\n",
        "    precision_value = num_relevant_items / len(recommended_set) if len(recommended_set) > 0 else 0\n",
        "    return precision_value\n",
        "\n",
        "def recall(actual_items, recommended_items):\n",
        "    relevant_items = set(actual_items)  # Set of actual items\n",
        "    recommended_set = set(recommended_items)  # Set of recommended items\n",
        "    # Calculate the number of recommended items that are relevant\n",
        "    num_relevant_items = len(relevant_items.intersection(recommended_set))\n",
        "    # Calculate recall\n",
        "    recall_value = num_relevant_items / len(relevant_items) if len(relevant_items) > 0 else 0\n",
        "    return recall_value\n",
        "    \n",
        "def f1_score(actual_items, recommended_items):\n",
        "    prec = precision(actual_items, recommended_items)\n",
        "    rec = recall(actual_items, recommended_items)\n",
        "    # Calculate F1-score\n",
        "    f1 = (2 * prec * rec) / (prec + rec) if (prec + rec) > 0 else 0\n",
        "    return f1\n",
        "\n"
      ],
      "metadata": {
        "id": "kBsTiR5O9f6X"
      },
      "execution_count": null,
      "outputs": []
    },
    {
      "cell_type": "code",
      "source": [
        "def user_based_cf(data, user_id):\n",
        "    # Get the list of all user IDs\n",
        "    all_user_ids = list(data.df['user_id'].unique())  # Get all unique user IDs\n",
        "\n",
        "    # Check if the given user_id exists in the dataset\n",
        "    if user_id in all_user_ids:\n",
        "      top_recommendations = get_top_recommendations(user_id, model, data)\n",
        "      for pack_id, predicted_rating in top_recommendations:\n",
        "        print(f\"Pack ID: {pack_id}, Predicted Rating: {predicted_rating}\")\n",
        "    else:\n",
        "      # Example usage\n",
        "      top_popular_packs = get_top_popular_packs(data)\n",
        "\n",
        "      # Print the top recommendations\n",
        "      for pack_id, popularity in top_popular_packs:\n",
        "        print(f\"Pack ID: {pack_id}, Popularity: {popularity}\")\n"
      ],
      "metadata": {
        "id": "2tgaC4qY962r"
      },
      "execution_count": null,
      "outputs": []
    },
    {
      "cell_type": "code",
      "source": [
        "def user_based_cf(data, user_id):\n",
        "    # Get the list of all user IDs\n",
        "    all_user_ids = list(data.df['user_id'].unique())  # Get all unique user IDs\n",
        "\n",
        "    # Check if the given user_id exists in the dataset\n",
        "    if user_id in all_user_ids:\n",
        "        top_recommendations = get_top_recommendations(user_id, model, data)\n",
        "        for pack_id, predicted_rating in top_recommendations:\n",
        "            # Retrieve the average rating for the pack_id\n",
        "            avg_rating = average_ratings.loc[average_ratings['pack_id'] == pack_id, 'pack_rating'].iloc[0]\n",
        "            print(f\"Pack ID: {pack_id}, Predicted Rating: {predicted_rating}, Average Rating: {avg_rating}\")\n",
        "    else:\n",
        "        # Example usage\n",
        "        top_popular_packs = get_top_popular_packs(data)\n",
        "\n",
        "        # Print the top recommendations\n",
        "        for pack_id, popularity in top_popular_packs:\n",
        "            # Retrieve the average rating for the pack_id\n",
        "            avg_rating = average_ratings.loc[average_ratings['pack_id'] == pack_id, 'pack_rating'].iloc[0]\n",
        "            print(f\"Pack ID: {pack_id}, Popularity: {popularity}, Average Rating: {avg_rating}\")\n"
      ],
      "metadata": {
        "id": "ZKioqJu5Fhiq"
      },
      "execution_count": null,
      "outputs": []
    },
    {
      "cell_type": "code",
      "source": [
        "user_id = 31\n",
        "user_based_cf(data, user_id)"
      ],
      "metadata": {
        "colab": {
          "base_uri": "https://localhost:8080/"
        },
        "id": "eFt8VLrj-50_",
        "outputId": "eb6c6256-6f6f-49c4-c90d-3e43945cffcb"
      },
      "execution_count": null,
      "outputs": [
        {
          "output_type": "stream",
          "name": "stdout",
          "text": [
            "Pack ID: 2.0, Popularity: 13, Average Rating: 3.3076923076923075\n",
            "Pack ID: 3.0, Popularity: 10, Average Rating: 3.7\n",
            "Pack ID: 1.0, Popularity: 9, Average Rating: 3.3333333333333335\n",
            "Pack ID: 4.0, Popularity: 9, Average Rating: 3.6666666666666665\n"
          ]
        }
      ]
    },
    {
      "cell_type": "code",
      "source": [
        "def user_based_cf(data, user_id):\n",
        "    # Get the list of all user IDs\n",
        "    all_user_ids = list(data.df['user_id'].unique())  # Get all unique user IDs\n",
        "\n",
        "    # Check if the given user_id exists in the dataset\n",
        "    if user_id in all_user_ids:\n",
        "        top_recommendations = get_top_recommendations(user_id, model, data)\n",
        "\n",
        "        # Example ground truth items for evaluation\n",
        "        actual_items = [123, 456, 789]  # Replace with actual items for the user\n",
        "\n",
        "        recommended_items = [pack_id for pack_id, _ in top_recommendations]\n",
        "\n",
        "        # Calculate precision, recall, and F1-score\n",
        "        prec = precision(actual_items, recommended_items)\n",
        "        rec = recall(actual_items, recommended_items)\n",
        "        f1 = f1_score(actual_items, recommended_items)\n",
        "\n",
        "        print(\"Precision:\", prec)\n",
        "        print(\"Recall:\", rec)\n",
        "        print(\"F1-score:\", f1)\n",
        "\n",
        "        for pack_id, predicted_rating in top_recommendations:\n",
        "            # Retrieve the average rating for the pack_id\n",
        "            avg_rating = average_ratings.loc[average_ratings['pack_id'] == pack_id, 'pack_rating'].iloc[0]\n",
        "            print(f\"Pack ID: {pack_id}, Predicted Rating: {predicted_rating}, Average Rating: {avg_rating}\")\n",
        "    else:\n",
        "        # Example usage\n",
        "        top_popular_packs = get_top_popular_packs(data)\n",
        "\n",
        "        # Print the top recommendations\n",
        "        for pack_id, popularity in top_popular_packs:\n",
        "            # Retrieve the average rating for the pack_id\n",
        "            avg_rating = average_ratings.loc[average_ratings['pack_id'] == pack_id, 'pack_rating'].iloc[0]\n",
        "            print(f\"Pack ID: {pack_id}, Popularity: {popularity}, Average Rating: {avg_rating}\")\n"
      ],
      "metadata": {
        "id": "3gilFdNWP9-m"
      },
      "execution_count": null,
      "outputs": []
    },
    {
      "cell_type": "code",
      "source": [
        "user_id = 8\n",
        "user_based_cf(data, user_id)"
      ],
      "metadata": {
        "colab": {
          "base_uri": "https://localhost:8080/"
        },
        "id": "nISDTXFvMZS7",
        "outputId": "433109b6-7cd5-4f7e-c148-5cc600621eca"
      },
      "execution_count": null,
      "outputs": [
        {
          "output_type": "stream",
          "name": "stdout",
          "text": [
            "Precision: 0.0\n",
            "Recall: 0.0\n",
            "F1-score: 0\n",
            "Pack ID: 3.0, Predicted Rating: 4.058732314443334, Average Rating: 3.7\n",
            "Pack ID: 1.0, Predicted Rating: 3.940164037974579, Average Rating: 3.3333333333333335\n",
            "Pack ID: 2.0, Predicted Rating: 3.907701084388906, Average Rating: 3.3076923076923075\n",
            "Pack ID: 4.0, Predicted Rating: 3.8894395326407762, Average Rating: 3.6666666666666665\n"
          ]
        }
      ]
    },
    {
      "cell_type": "code",
      "source": [],
      "metadata": {
        "id": "BGpZZCpPMZ1u"
      },
      "execution_count": null,
      "outputs": []
    }
  ]
}