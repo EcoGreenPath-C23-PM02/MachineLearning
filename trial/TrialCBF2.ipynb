{
  "nbformat": 4,
  "nbformat_minor": 0,
  "metadata": {
    "colab": {
      "provenance": [],
      "authorship_tag": "ABX9TyMvRfZsy77Q1PABTLAbBQCX",
      "include_colab_link": true
    },
    "kernelspec": {
      "name": "python3",
      "display_name": "Python 3"
    },
    "language_info": {
      "name": "python"
    }
  },
  "cells": [
    {
      "cell_type": "markdown",
      "metadata": {
        "id": "view-in-github",
        "colab_type": "text"
      },
      "source": [
        "<a href=\"https://colab.research.google.com/github/EcoGreenPath-C23-PM02/MachineLearning/blob/main/TrialCBF2.ipynb\" target=\"_parent\"><img src=\"https://colab.research.google.com/assets/colab-badge.svg\" alt=\"Open In Colab\"/></a>"
      ]
    },
    {
      "cell_type": "code",
      "execution_count": null,
      "metadata": {
        "id": "pMZy2hpYwbbr"
      },
      "outputs": [],
      "source": [
        "import pandas as pd\n",
        "import seaborn as sns\n",
        "import numpy as np\n",
        "import matplotlib.pyplot as plt\n",
        "from sklearn.metrics.pairwise import linear_kernel\n",
        "from sklearn.feature_extraction.text import TfidfVectorizer"
      ]
    },
    {
      "cell_type": "code",
      "source": [
        "dataset = pd.read_csv(\"dataset_coba2.csv\", sep=';', index_col='id')\n",
        "dataset.head()"
      ],
      "metadata": {
        "colab": {
          "base_uri": "https://localhost:8080/",
          "height": 475
        },
        "id": "7XtWrBFmAHVR",
        "outputId": "7c38ad93-a2c4-4b00-8f04-d51143a67fcf"
      },
      "execution_count": null,
      "outputs": [
        {
          "output_type": "execute_result",
          "data": {
            "text/plain": [
              "   travel_preference transportation_preference physical_activity_level  \\\n",
              "id                                                                       \n",
              "0         Group tour                    Biking             Challenging   \n",
              "1         Group tour                   Walking                    Easy   \n",
              "2               Solo                    Biking                  Medium   \n",
              "3               Solo                Car rental                    Easy   \n",
              "4         Group tour                    Biking                  Medium   \n",
              "\n",
              "    activity_preferences                               activity_description  \\\n",
              "id                                                                            \n",
              "0   Village Tour Cycling  Biking is the activity of cycling on various t...   \n",
              "1    Rice Field Trekking  Trekking is an activity of walking in nature t...   \n",
              "2   Village Tour Cycling  Biking is the activity of cycling on various t...   \n",
              "3     Fireflies Watching  Activities that involve observing and witnessi...   \n",
              "4          Cooking Class  The highlight of the experience is travel back...   \n",
              "\n",
              "                                     tour_preferences  \\\n",
              "id                                                      \n",
              "0   3D/2N Authentic Rural Experience at Tegal duku...   \n",
              "1                      Treasure Hunt & Cooking Battle   \n",
              "2                      Treasure Hunt & Cooking Battle   \n",
              "3                      Hiking Journey In Taro Village   \n",
              "4                      Treasure Hunt & Cooking Battle   \n",
              "\n",
              "                                     tour_description  \\\n",
              "id                                                      \n",
              "0   Tour packages that offer an authentic rural ex...   \n",
              "1   Treasure Hunt & Cooking Battle adalah paket tu...   \n",
              "2   Treasure Hunt & Cooking Battle adalah paket tu...   \n",
              "3   Hiking trips in Taro Village that offer advent...   \n",
              "4   Treasure Hunt & Cooking Battle adalah paket tu...   \n",
              "\n",
              "                 budget_range trip_duration  \n",
              "id                                           \n",
              "0   Rp 500.000 - Rp 1.000.000   2 or 3 Days  \n",
              "1     Rp 250.000 - Rp 500.000         1 Day  \n",
              "2     Rp 250.000 - Rp 500.000         1 Day  \n",
              "3   Rp 500.000 - Rp 1.000.000         1 Day  \n",
              "4     Rp 250.000 - Rp 500.000         1 Day  "
            ],
            "text/html": [
              "\n",
              "  <div id=\"df-385144cf-7ebd-451b-8866-102c93986f4b\">\n",
              "    <div class=\"colab-df-container\">\n",
              "      <div>\n",
              "<style scoped>\n",
              "    .dataframe tbody tr th:only-of-type {\n",
              "        vertical-align: middle;\n",
              "    }\n",
              "\n",
              "    .dataframe tbody tr th {\n",
              "        vertical-align: top;\n",
              "    }\n",
              "\n",
              "    .dataframe thead th {\n",
              "        text-align: right;\n",
              "    }\n",
              "</style>\n",
              "<table border=\"1\" class=\"dataframe\">\n",
              "  <thead>\n",
              "    <tr style=\"text-align: right;\">\n",
              "      <th></th>\n",
              "      <th>travel_preference</th>\n",
              "      <th>transportation_preference</th>\n",
              "      <th>physical_activity_level</th>\n",
              "      <th>activity_preferences</th>\n",
              "      <th>activity_description</th>\n",
              "      <th>tour_preferences</th>\n",
              "      <th>tour_description</th>\n",
              "      <th>budget_range</th>\n",
              "      <th>trip_duration</th>\n",
              "    </tr>\n",
              "    <tr>\n",
              "      <th>id</th>\n",
              "      <th></th>\n",
              "      <th></th>\n",
              "      <th></th>\n",
              "      <th></th>\n",
              "      <th></th>\n",
              "      <th></th>\n",
              "      <th></th>\n",
              "      <th></th>\n",
              "      <th></th>\n",
              "    </tr>\n",
              "  </thead>\n",
              "  <tbody>\n",
              "    <tr>\n",
              "      <th>0</th>\n",
              "      <td>Group tour</td>\n",
              "      <td>Biking</td>\n",
              "      <td>Challenging</td>\n",
              "      <td>Village Tour Cycling</td>\n",
              "      <td>Biking is the activity of cycling on various t...</td>\n",
              "      <td>3D/2N Authentic Rural Experience at Tegal duku...</td>\n",
              "      <td>Tour packages that offer an authentic rural ex...</td>\n",
              "      <td>Rp 500.000 - Rp 1.000.000</td>\n",
              "      <td>2 or 3 Days</td>\n",
              "    </tr>\n",
              "    <tr>\n",
              "      <th>1</th>\n",
              "      <td>Group tour</td>\n",
              "      <td>Walking</td>\n",
              "      <td>Easy</td>\n",
              "      <td>Rice Field Trekking</td>\n",
              "      <td>Trekking is an activity of walking in nature t...</td>\n",
              "      <td>Treasure Hunt &amp; Cooking Battle</td>\n",
              "      <td>Treasure Hunt &amp; Cooking Battle adalah paket tu...</td>\n",
              "      <td>Rp 250.000 - Rp 500.000</td>\n",
              "      <td>1 Day</td>\n",
              "    </tr>\n",
              "    <tr>\n",
              "      <th>2</th>\n",
              "      <td>Solo</td>\n",
              "      <td>Biking</td>\n",
              "      <td>Medium</td>\n",
              "      <td>Village Tour Cycling</td>\n",
              "      <td>Biking is the activity of cycling on various t...</td>\n",
              "      <td>Treasure Hunt &amp; Cooking Battle</td>\n",
              "      <td>Treasure Hunt &amp; Cooking Battle adalah paket tu...</td>\n",
              "      <td>Rp 250.000 - Rp 500.000</td>\n",
              "      <td>1 Day</td>\n",
              "    </tr>\n",
              "    <tr>\n",
              "      <th>3</th>\n",
              "      <td>Solo</td>\n",
              "      <td>Car rental</td>\n",
              "      <td>Easy</td>\n",
              "      <td>Fireflies Watching</td>\n",
              "      <td>Activities that involve observing and witnessi...</td>\n",
              "      <td>Hiking Journey In Taro Village</td>\n",
              "      <td>Hiking trips in Taro Village that offer advent...</td>\n",
              "      <td>Rp 500.000 - Rp 1.000.000</td>\n",
              "      <td>1 Day</td>\n",
              "    </tr>\n",
              "    <tr>\n",
              "      <th>4</th>\n",
              "      <td>Group tour</td>\n",
              "      <td>Biking</td>\n",
              "      <td>Medium</td>\n",
              "      <td>Cooking Class</td>\n",
              "      <td>The highlight of the experience is travel back...</td>\n",
              "      <td>Treasure Hunt &amp; Cooking Battle</td>\n",
              "      <td>Treasure Hunt &amp; Cooking Battle adalah paket tu...</td>\n",
              "      <td>Rp 250.000 - Rp 500.000</td>\n",
              "      <td>1 Day</td>\n",
              "    </tr>\n",
              "  </tbody>\n",
              "</table>\n",
              "</div>\n",
              "      <button class=\"colab-df-convert\" onclick=\"convertToInteractive('df-385144cf-7ebd-451b-8866-102c93986f4b')\"\n",
              "              title=\"Convert this dataframe to an interactive table.\"\n",
              "              style=\"display:none;\">\n",
              "        \n",
              "  <svg xmlns=\"http://www.w3.org/2000/svg\" height=\"24px\"viewBox=\"0 0 24 24\"\n",
              "       width=\"24px\">\n",
              "    <path d=\"M0 0h24v24H0V0z\" fill=\"none\"/>\n",
              "    <path d=\"M18.56 5.44l.94 2.06.94-2.06 2.06-.94-2.06-.94-.94-2.06-.94 2.06-2.06.94zm-11 1L8.5 8.5l.94-2.06 2.06-.94-2.06-.94L8.5 2.5l-.94 2.06-2.06.94zm10 10l.94 2.06.94-2.06 2.06-.94-2.06-.94-.94-2.06-.94 2.06-2.06.94z\"/><path d=\"M17.41 7.96l-1.37-1.37c-.4-.4-.92-.59-1.43-.59-.52 0-1.04.2-1.43.59L10.3 9.45l-7.72 7.72c-.78.78-.78 2.05 0 2.83L4 21.41c.39.39.9.59 1.41.59.51 0 1.02-.2 1.41-.59l7.78-7.78 2.81-2.81c.8-.78.8-2.07 0-2.86zM5.41 20L4 18.59l7.72-7.72 1.47 1.35L5.41 20z\"/>\n",
              "  </svg>\n",
              "      </button>\n",
              "      \n",
              "  <style>\n",
              "    .colab-df-container {\n",
              "      display:flex;\n",
              "      flex-wrap:wrap;\n",
              "      gap: 12px;\n",
              "    }\n",
              "\n",
              "    .colab-df-convert {\n",
              "      background-color: #E8F0FE;\n",
              "      border: none;\n",
              "      border-radius: 50%;\n",
              "      cursor: pointer;\n",
              "      display: none;\n",
              "      fill: #1967D2;\n",
              "      height: 32px;\n",
              "      padding: 0 0 0 0;\n",
              "      width: 32px;\n",
              "    }\n",
              "\n",
              "    .colab-df-convert:hover {\n",
              "      background-color: #E2EBFA;\n",
              "      box-shadow: 0px 1px 2px rgba(60, 64, 67, 0.3), 0px 1px 3px 1px rgba(60, 64, 67, 0.15);\n",
              "      fill: #174EA6;\n",
              "    }\n",
              "\n",
              "    [theme=dark] .colab-df-convert {\n",
              "      background-color: #3B4455;\n",
              "      fill: #D2E3FC;\n",
              "    }\n",
              "\n",
              "    [theme=dark] .colab-df-convert:hover {\n",
              "      background-color: #434B5C;\n",
              "      box-shadow: 0px 1px 3px 1px rgba(0, 0, 0, 0.15);\n",
              "      filter: drop-shadow(0px 1px 2px rgba(0, 0, 0, 0.3));\n",
              "      fill: #FFFFFF;\n",
              "    }\n",
              "  </style>\n",
              "\n",
              "      <script>\n",
              "        const buttonEl =\n",
              "          document.querySelector('#df-385144cf-7ebd-451b-8866-102c93986f4b button.colab-df-convert');\n",
              "        buttonEl.style.display =\n",
              "          google.colab.kernel.accessAllowed ? 'block' : 'none';\n",
              "\n",
              "        async function convertToInteractive(key) {\n",
              "          const element = document.querySelector('#df-385144cf-7ebd-451b-8866-102c93986f4b');\n",
              "          const dataTable =\n",
              "            await google.colab.kernel.invokeFunction('convertToInteractive',\n",
              "                                                     [key], {});\n",
              "          if (!dataTable) return;\n",
              "\n",
              "          const docLinkHtml = 'Like what you see? Visit the ' +\n",
              "            '<a target=\"_blank\" href=https://colab.research.google.com/notebooks/data_table.ipynb>data table notebook</a>'\n",
              "            + ' to learn more about interactive tables.';\n",
              "          element.innerHTML = '';\n",
              "          dataTable['output_type'] = 'display_data';\n",
              "          await google.colab.output.renderOutput(dataTable, element);\n",
              "          const docLink = document.createElement('div');\n",
              "          docLink.innerHTML = docLinkHtml;\n",
              "          element.appendChild(docLink);\n",
              "        }\n",
              "      </script>\n",
              "    </div>\n",
              "  </div>\n",
              "  "
            ]
          },
          "metadata": {},
          "execution_count": 201
        }
      ]
    },
    {
      "cell_type": "code",
      "source": [
        "print(dataset.index)"
      ],
      "metadata": {
        "colab": {
          "base_uri": "https://localhost:8080/"
        },
        "id": "MJ2XFV4BApZ-",
        "outputId": "a49e4159-3bd3-45e0-c30a-b0c94cd2b7af"
      },
      "execution_count": null,
      "outputs": [
        {
          "output_type": "stream",
          "name": "stdout",
          "text": [
            "Int64Index([0, 1, 2, 3, 4, 5, 6], dtype='int64', name='id')\n"
          ]
        }
      ]
    },
    {
      "cell_type": "code",
      "source": [
        "dataset.info()"
      ],
      "metadata": {
        "colab": {
          "base_uri": "https://localhost:8080/"
        },
        "id": "RNqFvvByoKQZ",
        "outputId": "07e0e66e-58c0-4970-c63d-facdcfc38fc7"
      },
      "execution_count": null,
      "outputs": [
        {
          "output_type": "stream",
          "name": "stdout",
          "text": [
            "<class 'pandas.core.frame.DataFrame'>\n",
            "Int64Index: 7 entries, 0 to 6\n",
            "Data columns (total 9 columns):\n",
            " #   Column                     Non-Null Count  Dtype \n",
            "---  ------                     --------------  ----- \n",
            " 0   travel_preference          7 non-null      object\n",
            " 1   transportation_preference  7 non-null      object\n",
            " 2   physical_activity_level    7 non-null      object\n",
            " 3   activity_preferences       7 non-null      object\n",
            " 4   activity_description       7 non-null      object\n",
            " 5   tour_preferences           7 non-null      object\n",
            " 6   tour_description           7 non-null      object\n",
            " 7   budget_range               7 non-null      object\n",
            " 8   trip_duration              7 non-null      object\n",
            "dtypes: object(9)\n",
            "memory usage: 560.0+ bytes\n"
          ]
        }
      ]
    },
    {
      "cell_type": "code",
      "source": [
        "dataset.describe()"
      ],
      "metadata": {
        "colab": {
          "base_uri": "https://localhost:8080/",
          "height": 273
        },
        "id": "o_fAf_UwoNyA",
        "outputId": "9a4aa5bd-e422-4b03-f1e7-9e871cc4d6e1"
      },
      "execution_count": null,
      "outputs": [
        {
          "output_type": "execute_result",
          "data": {
            "text/plain": [
              "       travel_preference transportation_preference physical_activity_level  \\\n",
              "count                  7                         7                       7   \n",
              "unique                 2                         3                       3   \n",
              "top           Group tour                    Biking             Challenging   \n",
              "freq                   4                         3                       3   \n",
              "\n",
              "        activity_preferences  \\\n",
              "count                      7   \n",
              "unique                     6   \n",
              "top     Village Tour Cycling   \n",
              "freq                       2   \n",
              "\n",
              "                                     activity_description  \\\n",
              "count                                                   7   \n",
              "unique                                                  6   \n",
              "top     Biking is the activity of cycling on various t...   \n",
              "freq                                                    2   \n",
              "\n",
              "                      tour_preferences  \\\n",
              "count                                7   \n",
              "unique                               3   \n",
              "top     Treasure Hunt & Cooking Battle   \n",
              "freq                                 3   \n",
              "\n",
              "                                         tour_description  \\\n",
              "count                                                   7   \n",
              "unique                                                  3   \n",
              "top     Treasure Hunt & Cooking Battle adalah paket tu...   \n",
              "freq                                                    3   \n",
              "\n",
              "                   budget_range trip_duration  \n",
              "count                         7             7  \n",
              "unique                        2             2  \n",
              "top     Rp 250.000 - Rp 500.000         1 Day  \n",
              "freq                          4             5  "
            ],
            "text/html": [
              "\n",
              "  <div id=\"df-84b9940d-0e12-466c-bfa0-9665f9bf1985\">\n",
              "    <div class=\"colab-df-container\">\n",
              "      <div>\n",
              "<style scoped>\n",
              "    .dataframe tbody tr th:only-of-type {\n",
              "        vertical-align: middle;\n",
              "    }\n",
              "\n",
              "    .dataframe tbody tr th {\n",
              "        vertical-align: top;\n",
              "    }\n",
              "\n",
              "    .dataframe thead th {\n",
              "        text-align: right;\n",
              "    }\n",
              "</style>\n",
              "<table border=\"1\" class=\"dataframe\">\n",
              "  <thead>\n",
              "    <tr style=\"text-align: right;\">\n",
              "      <th></th>\n",
              "      <th>travel_preference</th>\n",
              "      <th>transportation_preference</th>\n",
              "      <th>physical_activity_level</th>\n",
              "      <th>activity_preferences</th>\n",
              "      <th>activity_description</th>\n",
              "      <th>tour_preferences</th>\n",
              "      <th>tour_description</th>\n",
              "      <th>budget_range</th>\n",
              "      <th>trip_duration</th>\n",
              "    </tr>\n",
              "  </thead>\n",
              "  <tbody>\n",
              "    <tr>\n",
              "      <th>count</th>\n",
              "      <td>7</td>\n",
              "      <td>7</td>\n",
              "      <td>7</td>\n",
              "      <td>7</td>\n",
              "      <td>7</td>\n",
              "      <td>7</td>\n",
              "      <td>7</td>\n",
              "      <td>7</td>\n",
              "      <td>7</td>\n",
              "    </tr>\n",
              "    <tr>\n",
              "      <th>unique</th>\n",
              "      <td>2</td>\n",
              "      <td>3</td>\n",
              "      <td>3</td>\n",
              "      <td>6</td>\n",
              "      <td>6</td>\n",
              "      <td>3</td>\n",
              "      <td>3</td>\n",
              "      <td>2</td>\n",
              "      <td>2</td>\n",
              "    </tr>\n",
              "    <tr>\n",
              "      <th>top</th>\n",
              "      <td>Group tour</td>\n",
              "      <td>Biking</td>\n",
              "      <td>Challenging</td>\n",
              "      <td>Village Tour Cycling</td>\n",
              "      <td>Biking is the activity of cycling on various t...</td>\n",
              "      <td>Treasure Hunt &amp; Cooking Battle</td>\n",
              "      <td>Treasure Hunt &amp; Cooking Battle adalah paket tu...</td>\n",
              "      <td>Rp 250.000 - Rp 500.000</td>\n",
              "      <td>1 Day</td>\n",
              "    </tr>\n",
              "    <tr>\n",
              "      <th>freq</th>\n",
              "      <td>4</td>\n",
              "      <td>3</td>\n",
              "      <td>3</td>\n",
              "      <td>2</td>\n",
              "      <td>2</td>\n",
              "      <td>3</td>\n",
              "      <td>3</td>\n",
              "      <td>4</td>\n",
              "      <td>5</td>\n",
              "    </tr>\n",
              "  </tbody>\n",
              "</table>\n",
              "</div>\n",
              "      <button class=\"colab-df-convert\" onclick=\"convertToInteractive('df-84b9940d-0e12-466c-bfa0-9665f9bf1985')\"\n",
              "              title=\"Convert this dataframe to an interactive table.\"\n",
              "              style=\"display:none;\">\n",
              "        \n",
              "  <svg xmlns=\"http://www.w3.org/2000/svg\" height=\"24px\"viewBox=\"0 0 24 24\"\n",
              "       width=\"24px\">\n",
              "    <path d=\"M0 0h24v24H0V0z\" fill=\"none\"/>\n",
              "    <path d=\"M18.56 5.44l.94 2.06.94-2.06 2.06-.94-2.06-.94-.94-2.06-.94 2.06-2.06.94zm-11 1L8.5 8.5l.94-2.06 2.06-.94-2.06-.94L8.5 2.5l-.94 2.06-2.06.94zm10 10l.94 2.06.94-2.06 2.06-.94-2.06-.94-.94-2.06-.94 2.06-2.06.94z\"/><path d=\"M17.41 7.96l-1.37-1.37c-.4-.4-.92-.59-1.43-.59-.52 0-1.04.2-1.43.59L10.3 9.45l-7.72 7.72c-.78.78-.78 2.05 0 2.83L4 21.41c.39.39.9.59 1.41.59.51 0 1.02-.2 1.41-.59l7.78-7.78 2.81-2.81c.8-.78.8-2.07 0-2.86zM5.41 20L4 18.59l7.72-7.72 1.47 1.35L5.41 20z\"/>\n",
              "  </svg>\n",
              "      </button>\n",
              "      \n",
              "  <style>\n",
              "    .colab-df-container {\n",
              "      display:flex;\n",
              "      flex-wrap:wrap;\n",
              "      gap: 12px;\n",
              "    }\n",
              "\n",
              "    .colab-df-convert {\n",
              "      background-color: #E8F0FE;\n",
              "      border: none;\n",
              "      border-radius: 50%;\n",
              "      cursor: pointer;\n",
              "      display: none;\n",
              "      fill: #1967D2;\n",
              "      height: 32px;\n",
              "      padding: 0 0 0 0;\n",
              "      width: 32px;\n",
              "    }\n",
              "\n",
              "    .colab-df-convert:hover {\n",
              "      background-color: #E2EBFA;\n",
              "      box-shadow: 0px 1px 2px rgba(60, 64, 67, 0.3), 0px 1px 3px 1px rgba(60, 64, 67, 0.15);\n",
              "      fill: #174EA6;\n",
              "    }\n",
              "\n",
              "    [theme=dark] .colab-df-convert {\n",
              "      background-color: #3B4455;\n",
              "      fill: #D2E3FC;\n",
              "    }\n",
              "\n",
              "    [theme=dark] .colab-df-convert:hover {\n",
              "      background-color: #434B5C;\n",
              "      box-shadow: 0px 1px 3px 1px rgba(0, 0, 0, 0.15);\n",
              "      filter: drop-shadow(0px 1px 2px rgba(0, 0, 0, 0.3));\n",
              "      fill: #FFFFFF;\n",
              "    }\n",
              "  </style>\n",
              "\n",
              "      <script>\n",
              "        const buttonEl =\n",
              "          document.querySelector('#df-84b9940d-0e12-466c-bfa0-9665f9bf1985 button.colab-df-convert');\n",
              "        buttonEl.style.display =\n",
              "          google.colab.kernel.accessAllowed ? 'block' : 'none';\n",
              "\n",
              "        async function convertToInteractive(key) {\n",
              "          const element = document.querySelector('#df-84b9940d-0e12-466c-bfa0-9665f9bf1985');\n",
              "          const dataTable =\n",
              "            await google.colab.kernel.invokeFunction('convertToInteractive',\n",
              "                                                     [key], {});\n",
              "          if (!dataTable) return;\n",
              "\n",
              "          const docLinkHtml = 'Like what you see? Visit the ' +\n",
              "            '<a target=\"_blank\" href=https://colab.research.google.com/notebooks/data_table.ipynb>data table notebook</a>'\n",
              "            + ' to learn more about interactive tables.';\n",
              "          element.innerHTML = '';\n",
              "          dataTable['output_type'] = 'display_data';\n",
              "          await google.colab.output.renderOutput(dataTable, element);\n",
              "          const docLink = document.createElement('div');\n",
              "          docLink.innerHTML = docLinkHtml;\n",
              "          element.appendChild(docLink);\n",
              "        }\n",
              "      </script>\n",
              "    </div>\n",
              "  </div>\n",
              "  "
            ]
          },
          "metadata": {},
          "execution_count": 204
        }
      ]
    },
    {
      "cell_type": "code",
      "source": [
        "# Visualizing with the activity_preferences column\n",
        "activity_cat=dataset['activity_preferences'].value_counts()\n",
        "\n",
        "dims = (12, 8)\n",
        "fig, ax = plt.subplots(figsize=dims)\n",
        "ax = sns.countplot(x=dataset.activity_preferences)"
      ],
      "metadata": {
        "colab": {
          "base_uri": "https://localhost:8080/",
          "height": 594
        },
        "id": "XxAcfLUsMfh3",
        "outputId": "adf99071-bf83-408d-d60c-d4e9eabdc5b6"
      },
      "execution_count": null,
      "outputs": [
        {
          "output_type": "display_data",
          "data": {
            "text/plain": [
              "<Figure size 1200x800 with 1 Axes>"
            ],
            "image/png": "[encoded data removed]"
          },
          "metadata": {}
        }
      ]
    },
    {
      "cell_type": "code",
      "source": [
        "# Visualizing with the physical_activity_level column\n",
        "activity_cat=dataset['physical_activity_level'].value_counts()\n",
        "\n",
        "dims = (6, 4)\n",
        "fig, ax = plt.subplots(figsize=dims)\n",
        "ax = sns.countplot(x=dataset.physical_activity_level)"
      ],
      "metadata": {
        "colab": {
          "base_uri": "https://localhost:8080/",
          "height": 388
        },
        "id": "spKq_HD0OdPv",
        "outputId": "0c493708-7446-4b4b-bb73-7f1843385d6b"
      },
      "execution_count": null,
      "outputs": [
        {
          "output_type": "display_data",
          "data": {
            "text/plain": [
              "<Figure size 600x400 with 1 Axes>"
            ],
            "image/png": "[encoded data removed]"
          },
          "metadata": {}
        }
      ]
    },
    {
      "cell_type": "code",
      "source": [
        "dataset=dataset.dropna()"
      ],
      "metadata": {
        "id": "YN_cZFbsoZ5Q"
      },
      "execution_count": null,
      "outputs": []
    },
    {
      "cell_type": "code",
      "source": [
        "dataset.shape"
      ],
      "metadata": {
        "colab": {
          "base_uri": "https://localhost:8080/"
        },
        "id": "jqQzN30Hojpj",
        "outputId": "31ef5a8d-c7a0-4507-c568-b114ec0ca95e"
      },
      "execution_count": null,
      "outputs": [
        {
          "output_type": "execute_result",
          "data": {
            "text/plain": [
              "(7, 9)"
            ]
          },
          "metadata": {},
          "execution_count": 208
        }
      ]
    },
    {
      "cell_type": "code",
      "source": [
        "dataset[\"activity_description\"].head()"
      ],
      "metadata": {
        "colab": {
          "base_uri": "https://localhost:8080/"
        },
        "id": "MW0Rr6HOoqHy",
        "outputId": "6036c064-021b-42e8-cf46-6d9ec308bca7"
      },
      "execution_count": null,
      "outputs": [
        {
          "output_type": "execute_result",
          "data": {
            "text/plain": [
              "id\n",
              "0    Biking is the activity of cycling on various t...\n",
              "1    Trekking is an activity of walking in nature t...\n",
              "2    Biking is the activity of cycling on various t...\n",
              "3    Activities that involve observing and witnessi...\n",
              "4    The highlight of the experience is travel back...\n",
              "Name: activity_description, dtype: object"
            ]
          },
          "metadata": {},
          "execution_count": 209
        }
      ]
    },
    {
      "cell_type": "code",
      "source": [
        "tfidf = TfidfVectorizer(stop_words='english')\n",
        "dataset['activity_description']=dataset['activity_description'].fillna('')\n",
        "\n",
        "tfidf_matrix = tfidf.fit_transform(dataset['activity_description'])\n",
        "tfidf_matrix.shape"
      ],
      "metadata": {
        "colab": {
          "base_uri": "https://localhost:8080/"
        },
        "id": "WlPFsgHOBoQ9",
        "outputId": "84ee2563-2024-4f21-bfd0-cc6a302eb607"
      },
      "execution_count": null,
      "outputs": [
        {
          "output_type": "execute_result",
          "data": {
            "text/plain": [
              "(7, 81)"
            ]
          },
          "metadata": {},
          "execution_count": 210
        }
      ]
    },
    {
      "cell_type": "code",
      "source": [
        "cos_sim = linear_kernel(tfidf_matrix, tfidf_matrix)\n",
        "the_indices = pd.Series(dataset.index.values, index=dataset['activity_preferences']).drop_duplicates()"
      ],
      "metadata": {
        "id": "atUjuSnPGt0m"
      },
      "execution_count": null,
      "outputs": []
    },
    {
      "cell_type": "code",
      "source": [
        "import operator"
      ],
      "metadata": {
        "id": "W8CyTrDLIarM"
      },
      "execution_count": null,
      "outputs": []
    },
    {
      "cell_type": "code",
      "source": [
        "def get_the_recommendations(activity_preferences, cos_sim=cos_sim):\n",
        "  indices = the_indices.get(activity_preferences)\n",
        "  if indices is None or (isinstance(indices, np.ndarray) and len(indices) == 0):\n",
        "    return pd.Series([])  # Return an empty Series if activity_preferences is not found or indices is empty\n",
        "\n",
        "  index = indices[0] if isinstance(indices, np.ndarray) else indices.iloc[0] if isinstance(indices, pd.Series) else indices\n",
        "  sim_scores = list(enumerate(cos_sim[index]))\n",
        "  sim_scores = sorted(sim_scores, key=operator.itemgetter(1), reverse=True)\n",
        "  sim_scores = sim_scores[:5]\n",
        "  \n",
        "  recommended_indices = set()\n",
        "  technical_indices = []\n",
        "  \n",
        "  for i in sim_scores:\n",
        "    if len(technical_indices) >= 5:\n",
        "      break\n",
        "      \n",
        "    if i[1] > 0:  # Filter out activities with zero similarity score\n",
        "        if i[0] not in recommended_indices:\n",
        "          technical_indices.append(i[0])\n",
        "          recommended_indices.add(i[0])\n",
        "\n",
        "  recommendations = dataset.iloc[technical_indices]['activity_preferences']\n",
        "  recommendations = recommendations.drop_duplicates()\n",
        "  return recommendations\n"
      ],
      "metadata": {
        "id": "ExZhJtxHIggi"
      },
      "execution_count": null,
      "outputs": []
    },
    {
      "cell_type": "code",
      "source": [
        "# Try the recommendations\n",
        "get_the_recommendations('Rice Field Trekking')"
      ],
      "metadata": {
        "colab": {
          "base_uri": "https://localhost:8080/"
        },
        "id": "ZBRYS3npJKFb",
        "outputId": "aaf56273-ed2d-4a09-9686-aba64cbb5955"
      },
      "execution_count": null,
      "outputs": [
        {
          "output_type": "execute_result",
          "data": {
            "text/plain": [
              "id\n",
              "1     Rice Field Trekking\n",
              "0    Village Tour Cycling\n",
              "5         Jungle Trekking\n",
              "3      Fireflies Watching\n",
              "Name: activity_preferences, dtype: object"
            ]
          },
          "metadata": {},
          "execution_count": 215
        }
      ]
    },
    {
      "cell_type": "code",
      "source": [],
      "metadata": {
        "id": "CeKQI-EAOcwP"
      },
      "execution_count": null,
      "outputs": []
    }
  ]
}