{
  "nbformat": 4,
  "nbformat_minor": 0,
  "metadata": {
    "colab": {
      "provenance": [],
      "authorship_tag": "ABX9TyP9/wgeYZOymv7njmK91PoU",
      "include_colab_link": true
    },
    "kernelspec": {
      "name": "python3",
      "display_name": "Python 3"
    },
    "language_info": {
      "name": "python"
    }
  },
  "cells": [
    {
      "cell_type": "markdown",
      "metadata": {
        "id": "view-in-github",
        "colab_type": "text"
      },
      "source": [
        "<a href=\"https://colab.research.google.com/github/EcoGreenPath-C23-PM02/MachineLearning/blob/main/TrialLinearReg%26Classification_Ester.ipynb\" target=\"_parent\"><img src=\"https://colab.research.google.com/assets/colab-badge.svg\" alt=\"Open In Colab\"/></a>"
      ]
    },
    {
      "cell_type": "markdown",
      "source": [
        "# Linear Regression: Predicting Carbon Footprint"
      ],
      "metadata": {
        "id": "8lunxa_mjj4i"
      }
    },
    {
      "cell_type": "markdown",
      "source": [
        "**Step 1: Import the necessary libraries and load the dataset**"
      ],
      "metadata": {
        "id": "A-QUC_agj_uq"
      }
    },
    {
      "cell_type": "code",
      "execution_count": null,
      "metadata": {
        "id": "tlzJrF7cXFdJ"
      },
      "outputs": [],
      "source": [
        "import pandas as pd\n",
        "import numpy as np\n",
        "import seaborn as sns\n",
        "import matplotlib.pyplot as plt\n",
        "from sklearn.model_selection import train_test_split\n",
        "from sklearn.linear_model import LinearRegression\n",
        "from sklearn.tree import DecisionTreeClassifier\n",
        "from sklearn.metrics import accuracy_score\n",
        "from sklearn.metrics import mean_squared_error, mean_absolute_error"
      ]
    },
    {
      "cell_type": "code",
      "source": [
        "# Load the dataset\n",
        "dataset = pd.read_csv(\"dataset_carbon_2.csv\", sep=';')\n",
        "dataset.head()"
      ],
      "metadata": {
        "colab": {
          "base_uri": "https://localhost:8080/",
          "height": 339
        },
        "id": "GJPJgzRwXVYO",
        "outputId": "396a4e95-20c9-4456-f82e-c7562f084bce"
      },
      "execution_count": null,
      "outputs": [
        {
          "output_type": "execute_result",
          "data": {
            "text/plain": [
              "              quest_carbon  energy_consumption  carbon_footprint  \\\n",
              "0            tree planting                  18                 7   \n",
              "1     volunteering (tutor)                  10                 6   \n",
              "2    bring your trash back                   7                 3   \n",
              "3  cleaning around village                  15                 8   \n",
              "4   power-saving practices                   5                 2   \n",
              "\n",
              "   number_of_participants  activity_duration environmental_impact  \n",
              "0                       3                 80                 High  \n",
              "1                       2                 90               Medium  \n",
              "2                       2                 50               Medium  \n",
              "3                       3                 60                 High  \n",
              "4                       2                 10                  Low  "
            ],
            "text/html": [
              "\n",
              "  <div id=\"df-892788d2-80e7-4997-a389-5bb41fda167b\">\n",
              "    <div class=\"colab-df-container\">\n",
              "      <div>\n",
              "<style scoped>\n",
              "    .dataframe tbody tr th:only-of-type {\n",
              "        vertical-align: middle;\n",
              "    }\n",
              "\n",
              "    .dataframe tbody tr th {\n",
              "        vertical-align: top;\n",
              "    }\n",
              "\n",
              "    .dataframe thead th {\n",
              "        text-align: right;\n",
              "    }\n",
              "</style>\n",
              "<table border=\"1\" class=\"dataframe\">\n",
              "  <thead>\n",
              "    <tr style=\"text-align: right;\">\n",
              "      <th></th>\n",
              "      <th>quest_carbon</th>\n",
              "      <th>energy_consumption</th>\n",
              "      <th>carbon_footprint</th>\n",
              "      <th>number_of_participants</th>\n",
              "      <th>activity_duration</th>\n",
              "      <th>environmental_impact</th>\n",
              "    </tr>\n",
              "  </thead>\n",
              "  <tbody>\n",
              "    <tr>\n",
              "      <th>0</th>\n",
              "      <td>tree planting</td>\n",
              "      <td>18</td>\n",
              "      <td>7</td>\n",
              "      <td>3</td>\n",
              "      <td>80</td>\n",
              "      <td>High</td>\n",
              "    </tr>\n",
              "    <tr>\n",
              "      <th>1</th>\n",
              "      <td>volunteering (tutor)</td>\n",
              "      <td>10</td>\n",
              "      <td>6</td>\n",
              "      <td>2</td>\n",
              "      <td>90</td>\n",
              "      <td>Medium</td>\n",
              "    </tr>\n",
              "    <tr>\n",
              "      <th>2</th>\n",
              "      <td>bring your trash back</td>\n",
              "      <td>7</td>\n",
              "      <td>3</td>\n",
              "      <td>2</td>\n",
              "      <td>50</td>\n",
              "      <td>Medium</td>\n",
              "    </tr>\n",
              "    <tr>\n",
              "      <th>3</th>\n",
              "      <td>cleaning around village</td>\n",
              "      <td>15</td>\n",
              "      <td>8</td>\n",
              "      <td>3</td>\n",
              "      <td>60</td>\n",
              "      <td>High</td>\n",
              "    </tr>\n",
              "    <tr>\n",
              "      <th>4</th>\n",
              "      <td>power-saving practices</td>\n",
              "      <td>5</td>\n",
              "      <td>2</td>\n",
              "      <td>2</td>\n",
              "      <td>10</td>\n",
              "      <td>Low</td>\n",
              "    </tr>\n",
              "  </tbody>\n",
              "</table>\n",
              "</div>\n",
              "      <button class=\"colab-df-convert\" onclick=\"convertToInteractive('df-892788d2-80e7-4997-a389-5bb41fda167b')\"\n",
              "              title=\"Convert this dataframe to an interactive table.\"\n",
              "              style=\"display:none;\">\n",
              "        \n",
              "  <svg xmlns=\"http://www.w3.org/2000/svg\" height=\"24px\"viewBox=\"0 0 24 24\"\n",
              "       width=\"24px\">\n",
              "    <path d=\"M0 0h24v24H0V0z\" fill=\"none\"/>\n",
              "    <path d=\"M18.56 5.44l.94 2.06.94-2.06 2.06-.94-2.06-.94-.94-2.06-.94 2.06-2.06.94zm-11 1L8.5 8.5l.94-2.06 2.06-.94-2.06-.94L8.5 2.5l-.94 2.06-2.06.94zm10 10l.94 2.06.94-2.06 2.06-.94-2.06-.94-.94-2.06-.94 2.06-2.06.94z\"/><path d=\"M17.41 7.96l-1.37-1.37c-.4-.4-.92-.59-1.43-.59-.52 0-1.04.2-1.43.59L10.3 9.45l-7.72 7.72c-.78.78-.78 2.05 0 2.83L4 21.41c.39.39.9.59 1.41.59.51 0 1.02-.2 1.41-.59l7.78-7.78 2.81-2.81c.8-.78.8-2.07 0-2.86zM5.41 20L4 18.59l7.72-7.72 1.47 1.35L5.41 20z\"/>\n",
              "  </svg>\n",
              "      </button>\n",
              "      \n",
              "  <style>\n",
              "    .colab-df-container {\n",
              "      display:flex;\n",
              "      flex-wrap:wrap;\n",
              "      gap: 12px;\n",
              "    }\n",
              "\n",
              "    .colab-df-convert {\n",
              "      background-color: #E8F0FE;\n",
              "      border: none;\n",
              "      border-radius: 50%;\n",
              "      cursor: pointer;\n",
              "      display: none;\n",
              "      fill: #1967D2;\n",
              "      height: 32px;\n",
              "      padding: 0 0 0 0;\n",
              "      width: 32px;\n",
              "    }\n",
              "\n",
              "    .colab-df-convert:hover {\n",
              "      background-color: #E2EBFA;\n",
              "      box-shadow: 0px 1px 2px rgba(60, 64, 67, 0.3), 0px 1px 3px 1px rgba(60, 64, 67, 0.15);\n",
              "      fill: #174EA6;\n",
              "    }\n",
              "\n",
              "    [theme=dark] .colab-df-convert {\n",
              "      background-color: #3B4455;\n",
              "      fill: #D2E3FC;\n",
              "    }\n",
              "\n",
              "    [theme=dark] .colab-df-convert:hover {\n",
              "      background-color: #434B5C;\n",
              "      box-shadow: 0px 1px 3px 1px rgba(0, 0, 0, 0.15);\n",
              "      filter: drop-shadow(0px 1px 2px rgba(0, 0, 0, 0.3));\n",
              "      fill: #FFFFFF;\n",
              "    }\n",
              "  </style>\n",
              "\n",
              "      <script>\n",
              "        const buttonEl =\n",
              "          document.querySelector('#df-892788d2-80e7-4997-a389-5bb41fda167b button.colab-df-convert');\n",
              "        buttonEl.style.display =\n",
              "          google.colab.kernel.accessAllowed ? 'block' : 'none';\n",
              "\n",
              "        async function convertToInteractive(key) {\n",
              "          const element = document.querySelector('#df-892788d2-80e7-4997-a389-5bb41fda167b');\n",
              "          const dataTable =\n",
              "            await google.colab.kernel.invokeFunction('convertToInteractive',\n",
              "                                                     [key], {});\n",
              "          if (!dataTable) return;\n",
              "\n",
              "          const docLinkHtml = 'Like what you see? Visit the ' +\n",
              "            '<a target=\"_blank\" href=https://colab.research.google.com/notebooks/data_table.ipynb>data table notebook</a>'\n",
              "            + ' to learn more about interactive tables.';\n",
              "          element.innerHTML = '';\n",
              "          dataTable['output_type'] = 'display_data';\n",
              "          await google.colab.output.renderOutput(dataTable, element);\n",
              "          const docLink = document.createElement('div');\n",
              "          docLink.innerHTML = docLinkHtml;\n",
              "          element.appendChild(docLink);\n",
              "        }\n",
              "      </script>\n",
              "    </div>\n",
              "  </div>\n",
              "  "
            ]
          },
          "metadata": {},
          "execution_count": 106
        }
      ]
    },
    {
      "cell_type": "markdown",
      "source": [
        "**Step 2: Preprocessing and visualizing the dataset**"
      ],
      "metadata": {
        "id": "g3ATaXzPkiPA"
      }
    },
    {
      "cell_type": "code",
      "source": [
        "dataset.info()"
      ],
      "metadata": {
        "colab": {
          "base_uri": "https://localhost:8080/"
        },
        "id": "5RQcSmhkXj9_",
        "outputId": "48655620-c511-432c-f2cc-74fb24353739"
      },
      "execution_count": null,
      "outputs": [
        {
          "output_type": "stream",
          "name": "stdout",
          "text": [
            "<class 'pandas.core.frame.DataFrame'>\n",
            "RangeIndex: 6 entries, 0 to 5\n",
            "Data columns (total 6 columns):\n",
            " #   Column                  Non-Null Count  Dtype \n",
            "---  ------                  --------------  ----- \n",
            " 0   quest_carbon            6 non-null      object\n",
            " 1   energy_consumption      6 non-null      int64 \n",
            " 2   carbon_footprint        6 non-null      int64 \n",
            " 3   number_of_participants  6 non-null      int64 \n",
            " 4   activity_duration       6 non-null      int64 \n",
            " 5   environmental_impact    6 non-null      object\n",
            "dtypes: int64(4), object(2)\n",
            "memory usage: 416.0+ bytes\n"
          ]
        }
      ]
    },
    {
      "cell_type": "code",
      "source": [
        "print(dataset.columns)"
      ],
      "metadata": {
        "colab": {
          "base_uri": "https://localhost:8080/"
        },
        "id": "E9vnYYTbXuTz",
        "outputId": "aad7ee7c-3e01-42bc-c843-bae9eb977dfc"
      },
      "execution_count": null,
      "outputs": [
        {
          "output_type": "stream",
          "name": "stdout",
          "text": [
            "Index(['quest_carbon', 'energy_consumption', 'carbon_footprint',\n",
            "       'number_of_participants', 'activity_duration', 'environmental_impact'],\n",
            "      dtype='object')\n"
          ]
        }
      ]
    },
    {
      "cell_type": "code",
      "source": [
        "print(dataset.index)"
      ],
      "metadata": {
        "colab": {
          "base_uri": "https://localhost:8080/"
        },
        "id": "6IeJb2rnX7aQ",
        "outputId": "221d9c69-190b-49db-d946-88b807957cc9"
      },
      "execution_count": null,
      "outputs": [
        {
          "output_type": "stream",
          "name": "stdout",
          "text": [
            "RangeIndex(start=0, stop=6, step=1)\n"
          ]
        }
      ]
    },
    {
      "cell_type": "code",
      "source": [
        "# Visualizing with Bar Plot\n",
        "quest_carbon = dataset['quest_carbon']\n",
        "energy_consumption = dataset['energy_consumption']\n",
        "carbon_footprint = dataset['carbon_footprint']\n",
        "\n",
        "# Create figure and axes with specific figsize\n",
        "fig, ax = plt.subplots(figsize=(16, 8))\n",
        "\n",
        "# Plot energy consumption\n",
        "ax.bar(quest_carbon, energy_consumption, label='Energy Consumption')\n",
        "# Plot carbon footprint\n",
        "ax.bar(quest_carbon, carbon_footprint, label='Carbon Footprint')\n",
        "\n",
        "# Set labels and title\n",
        "ax.set_xlabel('Quest Carbon')\n",
        "ax.set_ylabel('Value')\n",
        "ax.set_title('Energy Consumption and Carbon Footprint')\n",
        "\n",
        "# Add legend\n",
        "ax.legend()\n",
        "\n",
        "# Show the plot\n",
        "plt.show()"
      ],
      "metadata": {
        "colab": {
          "base_uri": "https://localhost:8080/",
          "height": 473
        },
        "id": "hfYDi_euKmc8",
        "outputId": "96b946e0-59ba-4b95-929c-bd0f8d1f0a68"
      },
      "execution_count": null,
      "outputs": [
        {
          "output_type": "display_data",
          "data": {
            "text/plain": [
              "<Figure size 1600x800 with 1 Axes>"
            ],
            "image/png": "[encoded data removed]"
          },
          "metadata": {}
        }
      ]
    },
    {
      "cell_type": "code",
      "source": [
        "# Visualizing with Line Plot Based on Energy Consumption\n",
        "quest_carbon = dataset['quest_carbon']\n",
        "energy_consumption = dataset['energy_consumption']\n",
        "carbon_footprint = dataset['carbon_footprint']\n",
        "\n",
        "# Create figure and axes with specific figsize\n",
        "fig, ax = plt.subplots(figsize=(6, 4))\n",
        "\n",
        "# Calculate total energy consumption and carbon footprint\n",
        "total_energy_consumption = sum(energy_consumption)\n",
        "total_carbon_footprint = sum(carbon_footprint)\n",
        "\n",
        "# Plot energy consumption as a pie chart\n",
        "ax.pie(energy_consumption, labels=quest_carbon, autopct='%1.1f%%', startangle=90)\n",
        "# Set aspect ratio to equal to make the pie circular\n",
        "ax.axis('equal')\n",
        "# Set title\n",
        "ax.set_title('Energy Consumption Distribution')\n",
        "\n",
        "# Show the plot\n",
        "plt.show()"
      ],
      "metadata": {
        "colab": {
          "base_uri": "https://localhost:8080/",
          "height": 370
        },
        "id": "bZVf7E15Ofk9",
        "outputId": "6112ca2a-32d5-42b9-e159-282237ddabce"
      },
      "execution_count": null,
      "outputs": [
        {
          "output_type": "display_data",
          "data": {
            "text/plain": [
              "<Figure size 600x400 with 1 Axes>"
            ],
            "image/png": "[encoded data removed]"
          },
          "metadata": {}
        }
      ]
    },
    {
      "cell_type": "code",
      "source": [
        "# Visualizing with Line Plot Based on Carbon Footprint\n",
        "quest_carbon = dataset['quest_carbon']\n",
        "energy_consumption = dataset['energy_consumption']\n",
        "carbon_footprint = dataset['carbon_footprint']\n",
        "\n",
        "# Create figure and axes with specific figsize\n",
        "fig, ax = plt.subplots(figsize=(6, 4))\n",
        "\n",
        "# Calculate total energy consumption and carbon footprint\n",
        "total_energy_consumption = sum(energy_consumption)\n",
        "total_carbon_footprint = sum(carbon_footprint)\n",
        "\n",
        "# Plot carbon footprint as a pie chart\n",
        "ax.pie(carbon_footprint, labels=quest_carbon, autopct='%1.1f%%', startangle=90)\n",
        "# Set aspect ratio to equal to make the pie circular\n",
        "ax.axis('equal')\n",
        "# Set title\n",
        "ax.set_title('Carbon Footprint Distribution')\n",
        "\n",
        "# Show the plot\n",
        "plt.show()"
      ],
      "metadata": {
        "colab": {
          "base_uri": "https://localhost:8080/",
          "height": 370
        },
        "id": "SSSnys4UPluf",
        "outputId": "0c8ac6bc-3670-4771-8b52-cfb63bd70289"
      },
      "execution_count": null,
      "outputs": [
        {
          "output_type": "display_data",
          "data": {
            "text/plain": [
              "<Figure size 600x400 with 1 Axes>"
            ],
            "image/png": "[encoded data removed]"
          },
          "metadata": {}
        }
      ]
    },
    {
      "cell_type": "code",
      "source": [
        "# Split the dataset into features (X) and target variable (y)\n",
        "X = dataset[[\"energy_consumption\"]]  # Use double bracket to select column as DataFrame\n",
        "y = dataset[\"carbon_footprint\"]"
      ],
      "metadata": {
        "id": "-QSeYBztX9h-"
      },
      "execution_count": null,
      "outputs": []
    },
    {
      "cell_type": "markdown",
      "source": [
        "**Step 3: Create and train the regression model**"
      ],
      "metadata": {
        "id": "VyQJu94LlQ15"
      }
    },
    {
      "cell_type": "code",
      "source": [
        "# Create a linear regression model\n",
        "model = LinearRegression()\n",
        "\n",
        "# Train the model on the training data\n",
        "model.fit(X, y)"
      ],
      "metadata": {
        "colab": {
          "base_uri": "https://localhost:8080/",
          "height": 74
        },
        "id": "7OP7mQweYJnC",
        "outputId": "957f9557-3f56-4e20-bd8e-c20b9846ccee"
      },
      "execution_count": null,
      "outputs": [
        {
          "output_type": "execute_result",
          "data": {
            "text/plain": [
              "LinearRegression()"
            ],
            "text/html": [
              "<style>#sk-container-id-4 {color: black;background-color: white;}#sk-container-id-4 pre{padding: 0;}#sk-container-id-4 div.sk-toggleable {background-color: white;}#sk-container-id-4 label.sk-toggleable__label {cursor: pointer;display: block;width: 100%;margin-bottom: 0;padding: 0.3em;box-sizing: border-box;text-align: center;}#sk-container-id-4 label.sk-toggleable__label-arrow:before {content: \"▸\";float: left;margin-right: 0.25em;color: #696969;}#sk-container-id-4 label.sk-toggleable__label-arrow:hover:before {color: black;}#sk-container-id-4 div.sk-estimator:hover label.sk-toggleable__label-arrow:before {color: black;}#sk-container-id-4 div.sk-toggleable__content {max-height: 0;max-width: 0;overflow: hidden;text-align: left;background-color: #f0f8ff;}#sk-container-id-4 div.sk-toggleable__content pre {margin: 0.2em;color: black;border-radius: 0.25em;background-color: #f0f8ff;}#sk-container-id-4 input.sk-toggleable__control:checked~div.sk-toggleable__content {max-height: 200px;max-width: 100%;overflow: auto;}#sk-container-id-4 input.sk-toggleable__control:checked~label.sk-toggleable__label-arrow:before {content: \"▾\";}#sk-container-id-4 div.sk-estimator input.sk-toggleable__control:checked~label.sk-toggleable__label {background-color: #d4ebff;}#sk-container-id-4 div.sk-label input.sk-toggleable__control:checked~label.sk-toggleable__label {background-color: #d4ebff;}#sk-container-id-4 input.sk-hidden--visually {border: 0;clip: rect(1px 1px 1px 1px);clip: rect(1px, 1px, 1px, 1px);height: 1px;margin: -1px;overflow: hidden;padding: 0;position: absolute;width: 1px;}#sk-container-id-4 div.sk-estimator {font-family: monospace;background-color: #f0f8ff;border: 1px dotted black;border-radius: 0.25em;box-sizing: border-box;margin-bottom: 0.5em;}#sk-container-id-4 div.sk-estimator:hover {background-color: #d4ebff;}#sk-container-id-4 div.sk-parallel-item::after {content: \"\";width: 100%;border-bottom: 1px solid gray;flex-grow: 1;}#sk-container-id-4 div.sk-label:hover label.sk-toggleable__label {background-color: #d4ebff;}#sk-container-id-4 div.sk-serial::before {content: \"\";position: absolute;border-left: 1px solid gray;box-sizing: border-box;top: 0;bottom: 0;left: 50%;z-index: 0;}#sk-container-id-4 div.sk-serial {display: flex;flex-direction: column;align-items: center;background-color: white;padding-right: 0.2em;padding-left: 0.2em;position: relative;}#sk-container-id-4 div.sk-item {position: relative;z-index: 1;}#sk-container-id-4 div.sk-parallel {display: flex;align-items: stretch;justify-content: center;background-color: white;position: relative;}#sk-container-id-4 div.sk-item::before, #sk-container-id-4 div.sk-parallel-item::before {content: \"\";position: absolute;border-left: 1px solid gray;box-sizing: border-box;top: 0;bottom: 0;left: 50%;z-index: -1;}#sk-container-id-4 div.sk-parallel-item {display: flex;flex-direction: column;z-index: 1;position: relative;background-color: white;}#sk-container-id-4 div.sk-parallel-item:first-child::after {align-self: flex-end;width: 50%;}#sk-container-id-4 div.sk-parallel-item:last-child::after {align-self: flex-start;width: 50%;}#sk-container-id-4 div.sk-parallel-item:only-child::after {width: 0;}#sk-container-id-4 div.sk-dashed-wrapped {border: 1px dashed gray;margin: 0 0.4em 0.5em 0.4em;box-sizing: border-box;padding-bottom: 0.4em;background-color: white;}#sk-container-id-4 div.sk-label label {font-family: monospace;font-weight: bold;display: inline-block;line-height: 1.2em;}#sk-container-id-4 div.sk-label-container {text-align: center;}#sk-container-id-4 div.sk-container {/* jupyter's `normalize.less` sets `[hidden] { display: none; }` but bootstrap.min.css set `[hidden] { display: none !important; }` so we also need the `!important` here to be able to override the default hidden behavior on the sphinx rendered scikit-learn.org. See: https://github.com/scikit-learn/scikit-learn/issues/21755 */display: inline-block !important;position: relative;}#sk-container-id-4 div.sk-text-repr-fallback {display: none;}</style><div id=\"sk-container-id-4\" class=\"sk-top-container\"><div class=\"sk-text-repr-fallback\"><pre>LinearRegression()</pre><b>In a Jupyter environment, please rerun this cell to show the HTML representation or trust the notebook. <br />On GitHub, the HTML representation is unable to render, please try loading this page with nbviewer.org.</b></div><div class=\"sk-container\" hidden><div class=\"sk-item\"><div class=\"sk-estimator sk-toggleable\"><input class=\"sk-toggleable__control sk-hidden--visually\" id=\"sk-estimator-id-4\" type=\"checkbox\" checked><label for=\"sk-estimator-id-4\" class=\"sk-toggleable__label sk-toggleable__label-arrow\">LinearRegression</label><div class=\"sk-toggleable__content\"><pre>LinearRegression()</pre></div></div></div></div></div>"
            ]
          },
          "metadata": {},
          "execution_count": 114
        }
      ]
    },
    {
      "cell_type": "code",
      "source": [
        "# Split the dataset into training and testing data\n",
        "X_train, X_test, y_train, y_test = train_test_split(X, y, test_size=0.2, random_state=42)\n",
        "\n",
        "# Create a linear regression model\n",
        "model = LinearRegression()"
      ],
      "metadata": {
        "id": "Zt6wxmKDZQZy"
      },
      "execution_count": null,
      "outputs": []
    },
    {
      "cell_type": "code",
      "source": [
        "# Train the model on the training data\n",
        "model.fit(X_train, y_train)\n",
        "\n",
        "# Make predictions on the testing data\n",
        "y_pred = model.predict(X_test)"
      ],
      "metadata": {
        "id": "Uuz-bhPoZS5l"
      },
      "execution_count": null,
      "outputs": []
    },
    {
      "cell_type": "markdown",
      "source": [
        "**Step 4: Evaluate the model**"
      ],
      "metadata": {
        "id": "jgGy36z5lYCC"
      }
    },
    {
      "cell_type": "code",
      "source": [
        "# Evaluate the model\n",
        "# Calculate MSE\n",
        "mse = mean_squared_error(y_test, y_pred)\n",
        "\n",
        "# Calculate MAE\n",
        "mae = mean_absolute_error(y_test, y_pred)\n",
        "\n",
        "print(\"Mean Squared Error (MSE):\", mse)\n",
        "print(\"Mean Absolute Error (MAE):\", mae)"
      ],
      "metadata": {
        "colab": {
          "base_uri": "https://localhost:8080/"
        },
        "id": "czrteMgTat-R",
        "outputId": "c4b5adc2-7134-4f92-b322-d6df9c770b15"
      },
      "execution_count": null,
      "outputs": [
        {
          "output_type": "stream",
          "name": "stdout",
          "text": [
            "Mean Squared Error (MSE): 4.741787004619627\n",
            "Mean Absolute Error (MAE): 1.9882943143812697\n"
          ]
        }
      ]
    },
    {
      "cell_type": "markdown",
      "source": [
        "**Step 5: Use the trained model for prediction**"
      ],
      "metadata": {
        "id": "-WXiMAEIlgT0"
      }
    },
    {
      "cell_type": "code",
      "source": [
        "# Use the model to make predictions on new data\n",
        "new_data = np.array([[18]])  # Example of new data with energy consumption value of 18\n",
        "predicted_carbon_footprint = model.predict(new_data)\n",
        "print(\"Predicted Carbon Footprint:\", predicted_carbon_footprint)"
      ],
      "metadata": {
        "colab": {
          "base_uri": "https://localhost:8080/"
        },
        "id": "uXveaVAzcPfx",
        "outputId": "7d11a61d-4d45-4400-9037-1f23ad653ef1"
      },
      "execution_count": null,
      "outputs": [
        {
          "output_type": "stream",
          "name": "stdout",
          "text": [
            "Predicted Carbon Footprint: [9.87625418]\n"
          ]
        },
        {
          "output_type": "stream",
          "name": "stderr",
          "text": [
            "/usr/local/lib/python3.10/dist-packages/sklearn/base.py:439: UserWarning: X does not have valid feature names, but LinearRegression was fitted with feature names\n",
            "  warnings.warn(\n"
          ]
        }
      ]
    },
    {
      "cell_type": "code",
      "source": [
        "# Using input function\n",
        "def predict_carbon_footprint():\n",
        "    energy_consumption = float(input(\"Enter the energy consumption: \"))\n",
        "    new_data = np.array([[energy_consumption]])\n",
        "    predicted_carbon_footprint = model.predict(new_data)\n",
        "    print(\"Predicted Carbon Footprint:\", predicted_carbon_footprint)\n",
        "\n",
        "# Memanggil fungsi untuk memprediksi nilai carbon_footprint\n",
        "predict_carbon_footprint()\n"
      ],
      "metadata": {
        "colab": {
          "base_uri": "https://localhost:8080/"
        },
        "id": "cxr9v4krcT6-",
        "outputId": "7ff19dcc-abf4-47ea-9b26-7d22810b11e1"
      },
      "execution_count": null,
      "outputs": [
        {
          "output_type": "stream",
          "name": "stdout",
          "text": [
            "Enter the energy consumption: 17\n",
            "Predicted Carbon Footprint: [9.2541806]\n"
          ]
        },
        {
          "output_type": "stream",
          "name": "stderr",
          "text": [
            "/usr/local/lib/python3.10/dist-packages/sklearn/base.py:439: UserWarning: X does not have valid feature names, but LinearRegression was fitted with feature names\n",
            "  warnings.warn(\n"
          ]
        }
      ]
    },
    {
      "cell_type": "code",
      "source": [
        "# Setting up the 7th data (for example in the form DataFrame)\n",
        "data_7_carbon = pd.DataFrame({'energy_consumption': [17]})\n",
        "\n",
        "# Make predictions on the 7th data\n",
        "predicted_carbon_footprint = model.predict(data_7_carbon)\n",
        "\n",
        "# Display prediction results\n",
        "print(\"Predicted Carbon Footprint:\", predicted_carbon_footprint)"
      ],
      "metadata": {
        "colab": {
          "base_uri": "https://localhost:8080/"
        },
        "id": "Gd33xrECx78h",
        "outputId": "3a70347b-a203-49ef-cff5-b66aa8f9f52b"
      },
      "execution_count": null,
      "outputs": [
        {
          "output_type": "stream",
          "name": "stdout",
          "text": [
            "Predicted Carbon Footprint: [9.2541806]\n"
          ]
        }
      ]
    },
    {
      "cell_type": "markdown",
      "source": [
        "# Classification Algorithm: Make **environmental_impact** category"
      ],
      "metadata": {
        "id": "0giW5Ojot20e"
      }
    },
    {
      "cell_type": "code",
      "source": [
        "# Splitting the data into features and target variable\n",
        "X2 = dataset[['number_of_participants', 'activity_duration']]\n",
        "y2 = dataset['environmental_impact']\n",
        "\n",
        "# Splitting the data into training and testing sets\n",
        "X2_train, X2_test, y2_train, y2_test = train_test_split(X2, y2, test_size=0.2, random_state=42)\n",
        "\n",
        "# Initialize the Decision Tree Classifier\n",
        "model = DecisionTreeClassifier()\n",
        "\n",
        "# Train the classifier on the training data\n",
        "model.fit(X2_train, y2_train)\n",
        "\n",
        "# Make predictions on the testing data\n",
        "predictions = model.predict(X2_test)\n",
        "\n",
        "# Menghitung akurasi model\n",
        "accuracy = accuracy_score(y2_test, predictions)\n",
        "print(\"Akurasi: \", accuracy)"
      ],
      "metadata": {
        "colab": {
          "base_uri": "https://localhost:8080/"
        },
        "id": "h7PAM2NEBLyC",
        "outputId": "06f85aaa-1a5a-4614-fc9b-3fd70cc1ed2c"
      },
      "execution_count": null,
      "outputs": [
        {
          "output_type": "stream",
          "name": "stdout",
          "text": [
            "Akurasi:  1.0\n"
          ]
        }
      ]
    },
    {
      "cell_type": "code",
      "source": [
        "# Setting up the 7th data (for example in the form DataFrame)\n",
        "data_7 = pd.DataFrame({'number_of_participants': [2], 'activity_duration': [30]})\n",
        "\n",
        "# # Make predictions on the 7th data\n",
        "prediction_7 = model.predict(data_7)\n",
        "\n",
        "# Displays prediction results\n",
        "print(prediction_7)\n"
      ],
      "metadata": {
        "colab": {
          "base_uri": "https://localhost:8080/"
        },
        "id": "bCZax95iH329",
        "outputId": "5adedee6-cfe8-4221-b21f-af1084e7cd8b"
      },
      "execution_count": null,
      "outputs": [
        {
          "output_type": "stream",
          "name": "stdout",
          "text": [
            "['Low']\n"
          ]
        }
      ]
    },
    {
      "cell_type": "code",
      "source": [
        "# Make category mapping of the number_of_participants\n",
        "mapping_number_of_participants = {\n",
        "    (0, 4): \"Few\",\n",
        "    (5, 10): \"Moderate\",\n",
        "    (11, float(\"inf\")): \"Many\"\n",
        "}\n",
        "\n",
        "# Make category mapping of activity_duration\n",
        "mapping_activity_duration = {\n",
        "    (0, 60): \"Short\",\n",
        "    (60, 180): \"Average\",\n",
        "    (180, float(\"inf\")): \"Long\"\n",
        "}\n",
        "\n",
        "# Use mapping to change values in columns\n",
        "dataset[\"number_of_participants\"] = pd.cut(dataset[\"number_of_participants\"], bins=[0, 4, 10, float(\"inf\")], labels=[\"Few\", \"Moderate\", \"Many\"])\n",
        "dataset[\"activity_duration\"] = pd.cut(dataset[\"activity_duration\"], bins=[0, 60, 180, float(\"inf\")], labels=[\"Short\", \"Average\", \"Long\"])\n",
        "\n",
        "# Displays datasets that have been changed\n",
        "print(dataset)"
      ],
      "metadata": {
        "colab": {
          "base_uri": "https://localhost:8080/"
        },
        "id": "hgvc6HMhBoR4",
        "outputId": "9efc5de8-408d-481a-8443-69c964d0defa"
      },
      "execution_count": null,
      "outputs": [
        {
          "output_type": "stream",
          "name": "stdout",
          "text": [
            "                  quest_carbon  energy_consumption  carbon_footprint  \\\n",
            "0                tree planting                  18                 7   \n",
            "1         volunteering (tutor)                  10                 6   \n",
            "2        bring your trash back                   7                 3   \n",
            "3      cleaning around village                  15                 8   \n",
            "4       power-saving practices                   5                 2   \n",
            "5  eco-friendly products usage                   4                 1   \n",
            "\n",
            "  number_of_participants activity_duration environmental_impact  \n",
            "0                    Few           Average                 High  \n",
            "1                    Few           Average               Medium  \n",
            "2                    Few             Short               Medium  \n",
            "3                    Few             Short                 High  \n",
            "4                    Few             Short                  Low  \n",
            "5                    Few             Short                  Low  \n"
          ]
        }
      ]
    },
    {
      "cell_type": "markdown",
      "source": [
        "Mapping each activity to calculate quest points"
      ],
      "metadata": {
        "id": "aETvfl5dWHPI"
      }
    },
    {
      "cell_type": "code",
      "source": [
        "# Create a point mapping for each activity in the quest_carbon column\n",
        "mapping_points_quest_carbon = {\n",
        "    \"tree planting\": 5,\n",
        "    \"volunteering (tutor)\": 3,\n",
        "    \"bring your trash back\": 3,\n",
        "    \"cleaning around village\": 5,\n",
        "    \"power-saving practices\": 2,\n",
        "    \"eco-friendly products usage\": 2,\n",
        "}\n",
        "\n",
        "# Make mapping points for each range of energy_consumption values\n",
        "mapping_points_energy_consumption = {\n",
        "    (0, 5): 5,\n",
        "    (6, 10): 3,\n",
        "    (11, float(\"inf\")): 1\n",
        "}\n",
        "\n",
        "# Make mapping points for each range of carbon_footprint values\n",
        "mapping_points_carbon_footprint = {\n",
        "    (0, 3): 1,\n",
        "    (4, 7): 3,\n",
        "    (8, float(\"inf\")): 5\n",
        "}\n",
        "\n",
        "# Make mapping points based on the category of the number_of_participants\n",
        "mapping_points_number_of_participants = {\n",
        "    \"Few\": 5,\n",
        "    \"Moderate\": 10,\n",
        "    \"Many\": 15\n",
        "}\n",
        "\n",
        "# Make points mapping based on activity_duration categories\n",
        "mapping_points_activity_duration = {\n",
        "    \"Short\": 3,\n",
        "    \"Average\": 5,\n",
        "    \"Long\": 8\n",
        "}\n",
        "\n",
        "# Make point mapping based on environmental_impact categories\n",
        "mapping_points_environmental_impact = {\n",
        "    \"Low\": 3,\n",
        "    \"Medium\": 5,\n",
        "    \"High\": 8\n",
        "}"
      ],
      "metadata": {
        "id": "ZWLyDQDSWUV0"
      },
      "execution_count": null,
      "outputs": []
    },
    {
      "cell_type": "code",
      "source": [
        "# Calculates points for each column\n",
        "dataset['point_quest_carbon'] = dataset['quest_carbon'].map(mapping_points_quest_carbon).astype(int)\n",
        "dataset['point_energy_consumption'] = pd.cut(dataset['energy_consumption'], bins=[x[0] for x in mapping_points_energy_consumption.keys()]+[float(\"inf\")], labels=[x for x in mapping_points_energy_consumption.values()], include_lowest=True, right=False).astype(int)\n",
        "dataset['point_carbon_footprint'] = pd.cut(dataset['carbon_footprint'], bins=[x[0] for x in mapping_points_carbon_footprint.keys()]+[float(\"inf\")], labels=[x for x in mapping_points_carbon_footprint.values()], include_lowest=True, right=False).astype(int)\n",
        "dataset['point_number_of_participants'] = dataset['number_of_participants'].map(mapping_points_number_of_participants).astype(int)\n",
        "dataset['point_activity_duration'] = dataset['activity_duration'].map(mapping_points_activity_duration).astype(int)\n",
        "dataset['point_environmental_impact'] = dataset['environmental_impact'].map(mapping_points_environmental_impact).astype(int)\n",
        "\n",
        "# Calculates the total points\n",
        "dataset['total_points'] = (\n",
        "    dataset['point_quest_carbon'] +\n",
        "    dataset['point_energy_consumption'] +\n",
        "    dataset['point_carbon_footprint'] +\n",
        "    dataset['point_number_of_participants'] +\n",
        "    dataset['point_activity_duration'] +\n",
        "    dataset['point_environmental_impact']\n",
        ")\n",
        "\n",
        "# Displays dataset with column total_points\n",
        "print(dataset)"
      ],
      "metadata": {
        "colab": {
          "base_uri": "https://localhost:8080/"
        },
        "id": "b2w6k24rnr7A",
        "outputId": "0869c8ad-623c-4635-b1bf-e103209477d2"
      },
      "execution_count": null,
      "outputs": [
        {
          "output_type": "stream",
          "name": "stdout",
          "text": [
            "                  quest_carbon  energy_consumption  carbon_footprint  \\\n",
            "0                tree planting                  18                 7   \n",
            "1         volunteering (tutor)                  10                 6   \n",
            "2        bring your trash back                   7                 3   \n",
            "3      cleaning around village                  15                 8   \n",
            "4       power-saving practices                   5                 2   \n",
            "5  eco-friendly products usage                   4                 1   \n",
            "\n",
            "  number_of_participants activity_duration environmental_impact  \\\n",
            "0                    Few           Average                 High   \n",
            "1                    Few           Average               Medium   \n",
            "2                    Few             Short               Medium   \n",
            "3                    Few             Short                 High   \n",
            "4                    Few             Short                  Low   \n",
            "5                    Few             Short                  Low   \n",
            "\n",
            "   point_quest_carbon  point_energy_consumption  point_carbon_footprint  \\\n",
            "0                   5                         1                       3   \n",
            "1                   3                         3                       3   \n",
            "2                   3                         3                       1   \n",
            "3                   5                         1                       5   \n",
            "4                   2                         5                       1   \n",
            "5                   2                         5                       1   \n",
            "\n",
            "   point_number_of_participants  point_activity_duration  \\\n",
            "0                             5                        5   \n",
            "1                             5                        5   \n",
            "2                             5                        3   \n",
            "3                             5                        3   \n",
            "4                             5                        3   \n",
            "5                             5                        3   \n",
            "\n",
            "   point_environmental_impact  total_points  \n",
            "0                           8            27  \n",
            "1                           5            24  \n",
            "2                           5            20  \n",
            "3                           8            27  \n",
            "4                           3            19  \n",
            "5                           3            19  \n"
          ]
        }
      ]
    },
    {
      "cell_type": "code",
      "source": [],
      "metadata": {
        "id": "c0jENZX5ntVr"
      },
      "execution_count": null,
      "outputs": []
    }
  ]
}